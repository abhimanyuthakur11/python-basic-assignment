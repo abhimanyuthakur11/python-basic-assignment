{
  "nbformat": 4,
  "nbformat_minor": 0,
  "metadata": {
    "colab": {
      "provenance": []
    },
    "kernelspec": {
      "name": "python3",
      "display_name": "Python 3"
    },
    "language_info": {
      "name": "python"
    }
  },
  "cells": [
    {
      "cell_type": "markdown",
      "source": [
        "#Assignment\n"
      ],
      "metadata": {
        "id": "05326ncek13M"
      }
    },
    {
      "cell_type": "markdown",
      "source": [
        "1.what is python,and why is it popular?\n",
        "- python is a programming language that is easy to understand and write.it is compatible with various programming paradigms.It is popular because:\n",
        "\n",
        "        . Extensive standard library\n",
        "        . Strong community support\n",
        "        . Easy to learn with clear ,\n",
        "          readable syntax\n",
        "\n",
        "\n",
        "2. what is an interpreter in python?\n",
        "- An interpereter in python is the program that reads and executes python program code directly,line by line,without requiring compilation to machine code beforehand. By which it makes python more faster for rtesting and devbugging as changes can be immediately executed.\n",
        "\n",
        "\n",
        "3. What are pre-defined keywords in python?\n",
        "- Keywords in python are reserved words that have special meaning and purpose in python language. They cannot be used as variable names.\n",
        "Some examples:\n",
        "  > if,else,elif\n",
        "  > for,break,continue,while\n",
        "  > def,return,class\n",
        "  > true,false,none  etc,\n",
        "\n",
        "\n",
        "4. Can keywords be used as a variable names?\n",
        "- No,keywords cannot be used as avariable names in python. Since keywords have predefined meanings in the langugae,using them as a variable names would create ambiguity and syntax errors.\n",
        "\n",
        "\n",
        "5. What is mutability in python?\n",
        "- Mutability refers to wether an object can be changed after it's created:\n",
        "  . mutable objects can be changed/modified after creation (lists,sets,dictionary)\n",
        "  . immutable objects cannot be changed after creation (tuples,strings,numbers)\n",
        "\n",
        "\n",
        "6. Why are lists mutable,but tuples are immutable?\\\n",
        "- Lists are mutable to provide the flexiblity when you need to modify collections of data.But the tuples are immutable for several reasons:\n",
        "\n",
        "     > Maintaining order : In tuples the aorder is maintained which is\n",
        "                          immutable.\n",
        "     > For faster access and execution.\n",
        "     > to ensure data integrity when you don't want values to be changed.\n",
        "\n",
        "\n",
        "7. What is the difference between \"==\" and \"is\" operators in python?\n",
        "- The difference is:\n",
        "  > \"==\"compares the value or equality of two objects\n",
        "  > \"is\" compares the identity of objects (if they are the same objects  \n",
        "     in memory)    \n",
        "\n",
        "\n",
        "8. What are logical operators in python?\n",
        "- logical operators in python are used to combine conditionals    \n",
        "  satements:\n",
        "  > \"AND\" returns True if both the statements are true\n",
        "  > \"OR\"  returns True if at least one statement is true\n",
        "  > \"NOT\" returns the opposite of statements truth value\n",
        "\n",
        "\n",
        "9. What is typecasting in python?\n",
        "- Type casting in python ,also known as type conversion,refers to the process of changing the data types of a variable.Python provides the in built functions for the type conversion:\n",
        "\n",
        "  >int():converts to integer\n",
        "  >float():converts to floating-point number\n",
        "  >str():converts to string\n",
        "  >list(),tuple(),set():converts to respective collection type\n",
        "\n",
        "\n",
        "10. What is rthe difference between implict and explict type casting?\n",
        "- The difference between implict and explict type casting are:\n",
        "  1. Implict type casting (Automatic):\n",
        "           ~ Python automatically converts one data type to another when\n",
        "            needed\n",
        "           ~ Usually occurs during expression evaluation\n",
        "\n",
        "  2. Expklict type casting (manual):\n",
        "           ~ The programmer explicitly converts using type conversion\n",
        "             functions\n",
        "\n",
        "\n",
        "11. What is the purpose of conditional statements in python?\n",
        "- Conditional statements allow programs to make decesions based on  \n",
        "  certain conditions.They execute different code blocks depending on wether specified conditions are true or false.Purpose includes:\n",
        "\n",
        "            > Control program flow based on user input  \n",
        "            > prevent errors by checking conditions before operations\n",
        "            >create branches in algorithm\n",
        "\n",
        "The main conditional structure in python are if,else,elif and nested if.\n",
        "\n",
        "\n",
        "12. How does the elif statement works?\n",
        "- The elif (short for \"else if\") statement in python works as follow:\n",
        "\n",
        "      > it is used after an initial if statement  \n",
        "      > it provides an additional condition(s) to check if the previous\n",
        "        condition were false\n",
        "      > multiple elif statements can be chained to check multiple\n",
        "        conditions in sequence\n",
        "      > if the elif condition is true,its code block executes\n",
        "      > if all if and elif conditions are false,the else block executes\n",
        "\n",
        "\n",
        "13. What is the difference between for and while loops?\n",
        "- The key differences are:-\n",
        " FOR loop:\n",
        "  > used for iterating over a sequence (list,tuple,string,etc)\n",
        "  > number of iteration is predetermined by the sequence length\n",
        "  > better you know the nimber of iteration in advance\n",
        "\n",
        "  WHILE loop:\n",
        "  > executes as long as condition remains true\n",
        "  > number of iterations depend on when the condition becomes false\n",
        "  > better when you don't know how many iterations you'll\n",
        "\n",
        "\n",
        "14. Describe a scenario where a while loop is more suitable than a for\n",
        "  loop?   \n",
        "- A while loop is more suitable in situations where the numbers of\n",
        "  iterations is not known in advance and depends on a dynamic condition that is evaluated during each iteration.In contrast,for loop is typically used when you know how many times you want to iterate over a sequence or range.\n",
        "\n",
        "  Example Scenario: Imagine a situation where you are writing a program to keep prompting a user for a password untill they enter the correct one.You don't know how many attempts the user will need,but you need to continue asking untill they provide the correct input.Here a while loop is ideal because the coindition will change with each attempt,and the number of iteration is unknown."
      ],
      "metadata": {
        "id": "GpnqSB3_lrFF"
      }
    },
    {
      "cell_type": "code",
      "execution_count": null,
      "metadata": {
        "id": "nvnNLqfaaa0K",
        "colab": {
          "base_uri": "https://localhost:8080/"
        },
        "outputId": "c3626c4a-4f9b-4121-d18f-30ea4fa5f68e"
      },
      "outputs": [
        {
          "output_type": "stream",
          "name": "stdout",
          "text": [
            "enter the correct password:password123\n",
            "access granrted\n"
          ]
        }
      ],
      "source": [
        "#for example\n",
        "correct_password=\"password123\"\n",
        "user_input=\"  \"\n",
        "while user_input !=correct_password:\n",
        "  user_input=input(\"enter the correct password:\")\n",
        "  print(\"access granrted\")"
      ]
    },
    {
      "cell_type": "markdown",
      "source": [
        "PRACTICAL QUESTION ANSWER"
      ],
      "metadata": {
        "id": "pO4QW-14ev7O"
      }
    },
    {
      "cell_type": "markdown",
      "source": [
        "Question 1. Write a python progrm to print \"hello world\""
      ],
      "metadata": {
        "id": "UnyaM_q1yTUt"
      }
    },
    {
      "cell_type": "code",
      "source": [
        "print(\"hello world\")"
      ],
      "metadata": {
        "colab": {
          "base_uri": "https://localhost:8080/"
        },
        "id": "N5IHBb1IeHbF",
        "outputId": "0cb9a8df-39d2-4427-863d-73f766cad5e6"
      },
      "execution_count": null,
      "outputs": [
        {
          "output_type": "stream",
          "name": "stdout",
          "text": [
            "hello world\n"
          ]
        }
      ]
    },
    {
      "cell_type": "markdown",
      "source": [
        "Question 2. Write a python program that displays your name and age."
      ],
      "metadata": {
        "id": "ZRf1L6Ffyu_y"
      }
    },
    {
      "cell_type": "code",
      "source": [
        "name =\"Abhimanyu Thakur\"\n",
        "age = 23\n",
        "print=(\"Name:\",name)\n",
        "print=(\"Age:\",age)"
      ],
      "metadata": {
        "id": "STC88uPcyolp"
      },
      "execution_count": null,
      "outputs": []
    },
    {
      "cell_type": "markdown",
      "source": [
        "question 3. Write a code to print all the pre-defined keywords in python using the keyword library."
      ],
      "metadata": {
        "id": "DvbmIlem0Rq2"
      }
    },
    {
      "cell_type": "code",
      "source": [
        "import keyword\n",
        "help('keywords')"
      ],
      "metadata": {
        "colab": {
          "base_uri": "https://localhost:8080/"
        },
        "id": "g4ANM_L9zl5V",
        "outputId": "d2ee7924-2a26-473e-9532-a5e01aecedbd"
      },
      "execution_count": null,
      "outputs": [
        {
          "output_type": "stream",
          "name": "stdout",
          "text": [
            "\n",
            "Here is a list of the Python keywords.  Enter any keyword to get more help.\n",
            "\n",
            "False               class               from                or\n",
            "None                continue            global              pass\n",
            "True                def                 if                  raise\n",
            "and                 del                 import              return\n",
            "as                  elif                in                  try\n",
            "assert              else                is                  while\n",
            "async               except              lambda              with\n",
            "await               finally             nonlocal            yield\n",
            "break               for                 not                 \n",
            "\n"
          ]
        }
      ]
    },
    {
      "cell_type": "markdown",
      "source": [
        "Question 4. Write a program that checks if a given words is a python keyword"
      ],
      "metadata": {
        "id": "qCtF_05Z2yvO"
      }
    },
    {
      "cell_type": "code",
      "source": [
        "import keyword\n",
        "word=input(\"enter a word:\")\n",
        "if keyword.iskeyword(word):\n",
        "  print(f\"{word} is a python keyword.\")\n",
        "else:\n",
        "    print(f\"{word}is not a python keyword.\")"
      ],
      "metadata": {
        "colab": {
          "base_uri": "https://localhost:8080/"
        },
        "id": "XjcpgpSv0n8a",
        "outputId": "69cf0d54-53d3-411f-eae5-6da099cbb4ef"
      },
      "execution_count": null,
      "outputs": [
        {
          "output_type": "stream",
          "name": "stdout",
          "text": [
            "enter a word:if\n",
            "if is a python keyword.\n"
          ]
        }
      ]
    },
    {
      "cell_type": "markdown",
      "source": [
        "Question 5. Create a list and tuple in python,and demonstrate how attempting to change an element works differently"
      ],
      "metadata": {
        "id": "q_QaNyJ144Nt"
      }
    },
    {
      "cell_type": "code",
      "source": [
        "my_list = [1,2,3,4,5]\n",
        "my_tuple = (1,2,3)\n",
        "print(\"original list:\",my_list)\n",
        "my_list[2]=33\n",
        "print(\"changed list:\",my_list)"
      ],
      "metadata": {
        "colab": {
          "base_uri": "https://localhost:8080/"
        },
        "id": "KhmpHYi83ySo",
        "outputId": "af7f3681-e24c-4653-aabe-dfc47bd648a3"
      },
      "execution_count": null,
      "outputs": [
        {
          "output_type": "stream",
          "name": "stdout",
          "text": [
            "original list: [1, 2, 3, 4, 5]\n",
            "changed list: [1, 2, 33, 4, 5]\n"
          ]
        }
      ]
    },
    {
      "cell_type": "code",
      "source": [
        "print(\"original tuple:\",my_tuple)\n",
        "my_tuple[1]=15\n",
        "print(\"changed tuple:\",my_tuple)"
      ],
      "metadata": {
        "colab": {
          "base_uri": "https://localhost:8080/",
          "height": 193
        },
        "id": "YoQqY_Pm6I5n",
        "outputId": "af7a68b5-a2a3-4016-868c-9f732d39c40e"
      },
      "execution_count": null,
      "outputs": [
        {
          "output_type": "stream",
          "name": "stdout",
          "text": [
            "original tuple: (1, 2, 3)\n"
          ]
        },
        {
          "output_type": "error",
          "ename": "TypeError",
          "evalue": "'tuple' object does not support item assignment",
          "traceback": [
            "\u001b[0;31m---------------------------------------------------------------------------\u001b[0m",
            "\u001b[0;31mTypeError\u001b[0m                                 Traceback (most recent call last)",
            "\u001b[0;32m<ipython-input-5-0633aba16572>\u001b[0m in \u001b[0;36m<cell line: 0>\u001b[0;34m()\u001b[0m\n\u001b[1;32m      1\u001b[0m \u001b[0mprint\u001b[0m\u001b[0;34m(\u001b[0m\u001b[0;34m\"original tuple:\"\u001b[0m\u001b[0;34m,\u001b[0m\u001b[0mmy_tuple\u001b[0m\u001b[0;34m)\u001b[0m\u001b[0;34m\u001b[0m\u001b[0;34m\u001b[0m\u001b[0m\n\u001b[0;32m----> 2\u001b[0;31m \u001b[0mmy_tuple\u001b[0m\u001b[0;34m[\u001b[0m\u001b[0;36m1\u001b[0m\u001b[0;34m]\u001b[0m\u001b[0;34m=\u001b[0m\u001b[0;36m15\u001b[0m\u001b[0;34m\u001b[0m\u001b[0;34m\u001b[0m\u001b[0m\n\u001b[0m\u001b[1;32m      3\u001b[0m \u001b[0mprint\u001b[0m\u001b[0;34m(\u001b[0m\u001b[0;34m\"changed tuple:\"\u001b[0m\u001b[0;34m,\u001b[0m\u001b[0mmy_tuple\u001b[0m\u001b[0;34m)\u001b[0m\u001b[0;34m\u001b[0m\u001b[0;34m\u001b[0m\u001b[0m\n",
            "\u001b[0;31mTypeError\u001b[0m: 'tuple' object does not support item assignment"
          ]
        }
      ]
    },
    {
      "cell_type": "markdown",
      "source": [
        "Question 6. Write a function to demonstrate the behaviour of mutable and immutable arguments"
      ],
      "metadata": {
        "id": "TZovXqVC7Gx4"
      }
    },
    {
      "cell_type": "code",
      "source": [
        "def modify_args(a_list,an_int):\n",
        "  a_list.append(6)\n",
        "  an_int +=10\n",
        "  my_list = [1,2,3]\n",
        "  my_int = 5\n",
        "  modify_args (my_list , my_int)\n",
        "  print(\"list after function call:\",my_list)\n",
        "  print(\"int after function call:\",my_int)"
      ],
      "metadata": {
        "id": "bkJgzVyw69JP"
      },
      "execution_count": null,
      "outputs": []
    },
    {
      "cell_type": "markdown",
      "source": [
        "Question 7. write a program that performs basic airthmetic operations on two user-input numbers"
      ],
      "metadata": {
        "id": "cA2bRliJEB_o"
      }
    },
    {
      "cell_type": "code",
      "source": [
        "a=int(input(\"enter the first number:\"))\n",
        "b=int(input(\"enter the second number:\"))\n",
        "print(\"sum\",a+b)\n",
        "print(\"difference\",a-b)\n",
        "print(\"product:\",a/b)"
      ],
      "metadata": {
        "colab": {
          "base_uri": "https://localhost:8080/"
        },
        "id": "rse2HEUZDdEk",
        "outputId": "fe46ee1d-4115-4b7d-f2bd-bb8f3e7ff41d"
      },
      "execution_count": null,
      "outputs": [
        {
          "output_type": "stream",
          "name": "stdout",
          "text": [
            "enter the first number:12\n",
            "enter the second number:10\n",
            "sum 22\n",
            "difference 2\n",
            "product: 1.2\n"
          ]
        }
      ]
    },
    {
      "cell_type": "markdown",
      "source": [
        "Question 8. Write a program to demonstrate the use of logical operators"
      ],
      "metadata": {
        "id": "Ql_y4hffFyU9"
      }
    },
    {
      "cell_type": "code",
      "source": [
        "a=True\n",
        "b=False\n",
        "print(\"a AND b:\",a and b)\n",
        "print(\"a OR b:\",a or b)\n",
        "print(\"a NOT b:\",not a)"
      ],
      "metadata": {
        "colab": {
          "base_uri": "https://localhost:8080/"
        },
        "id": "fAFa2UEJFtod",
        "outputId": "89d45471-699f-4519-fe2e-85bf96fd5f7a"
      },
      "execution_count": null,
      "outputs": [
        {
          "output_type": "stream",
          "name": "stdout",
          "text": [
            "a AND b: False\n",
            "a OR b: True\n",
            "a NOT b: False\n"
          ]
        }
      ]
    },
    {
      "cell_type": "markdown",
      "source": [
        "Question 9. Write a python program to convert user input from string to integer,float and boolean types"
      ],
      "metadata": {
        "id": "SKP9SDnQGruR"
      }
    },
    {
      "cell_type": "code",
      "source": [
        "str=input(\"enter something:\")\n",
        "integer_value=int\n",
        "float_value=float\n",
        "bool_value=bool\n",
        "print(\"as integer:\",integer_value)\n",
        "print(type(integer_value))\n",
        "print(\"asfloat:\",float_value)\n",
        "print(type(float_value))\n",
        "print(\"as boolean:\",bool_value)\n",
        "print(type(bool_value))"
      ],
      "metadata": {
        "colab": {
          "base_uri": "https://localhost:8080/"
        },
        "id": "ReW_4-S6GhHb",
        "outputId": "a556b98f-b176-4c70-f25f-d493c21b8266"
      },
      "execution_count": null,
      "outputs": [
        {
          "output_type": "stream",
          "name": "stdout",
          "text": [
            "enter something:235\n",
            "as integer: <class 'int'>\n",
            "<class 'type'>\n",
            "asfloat: <class 'float'>\n",
            "<class 'type'>\n",
            "as boolean: <class 'bool'>\n",
            "<class 'type'>\n"
          ]
        }
      ]
    },
    {
      "cell_type": "markdown",
      "source": [
        "Question 10. Write code to demonstrate type casting with list elements"
      ],
      "metadata": {
        "id": "TWDVDTwNvRYD"
      }
    },
    {
      "cell_type": "code",
      "source": [
        "str_list = [\"1\",\"2\",\"3\"]\n",
        "print (\"str_list:\",str_list)\n",
        "\n",
        "#convert all str to int\n",
        "int_list = [int(item)for item in str_list]\n",
        "print(\"int_list:\",int_list)\n"
      ],
      "metadata": {
        "id": "tuBeEhd-ISGI",
        "colab": {
          "base_uri": "https://localhost:8080/",
          "height": 0
        },
        "outputId": "61f295c8-52f1-4a0a-bb2f-9fa7ae903fe1"
      },
      "execution_count": 4,
      "outputs": [
        {
          "output_type": "stream",
          "name": "stdout",
          "text": [
            "str_list: ['1', '2', '3']\n",
            "int_list: [1, 2, 3]\n"
          ]
        }
      ]
    },
    {
      "cell_type": "markdown",
      "source": [
        "Question 11. Write a program that checks if a no is positive,negative or zero"
      ],
      "metadata": {
        "id": "aNVy-E-YyA-U"
      }
    },
    {
      "cell_type": "code",
      "source": [
        "number =int(input(\"enter a number:\"))\n",
        "if number < 0:\n",
        "  print(\"number is negative\")\n",
        "elif number > 0:\n",
        "  print(\"number is positive\")\n",
        "else:\n",
        "  print(\"zero\")"
      ],
      "metadata": {
        "colab": {
          "base_uri": "https://localhost:8080/",
          "height": 0
        },
        "id": "5rpkBgSWxitf",
        "outputId": "74928c7d-f57c-42ea-c302-574eb8b1c397"
      },
      "execution_count": 7,
      "outputs": [
        {
          "output_type": "stream",
          "name": "stdout",
          "text": [
            "enter a number:-10\n",
            "number is negative\n"
          ]
        }
      ]
    },
    {
      "cell_type": "markdown",
      "source": [
        "Question 12. Write a code for for loop to print no from 1 to 10"
      ],
      "metadata": {
        "id": "jgUzvnOy0Gws"
      }
    },
    {
      "cell_type": "code",
      "source": [
        "for i in range (1,11):\n",
        "  print(i,end = \" \")\n"
      ],
      "metadata": {
        "colab": {
          "base_uri": "https://localhost:8080/",
          "height": 0
        },
        "id": "PKSJOnRvz4Fh",
        "outputId": "05362f99-d475-43ac-99ee-355fd526df91"
      },
      "execution_count": 9,
      "outputs": [
        {
          "output_type": "stream",
          "name": "stdout",
          "text": [
            "1 2 3 4 5 6 7 8 9 10 "
          ]
        }
      ]
    },
    {
      "cell_type": "markdown",
      "source": [
        "Question 13. Write a python program to find the sum of all even numbers between 1 and 50"
      ],
      "metadata": {
        "id": "Ix1p9K4L0sWr"
      }
    },
    {
      "cell_type": "code",
      "source": [
        "total =0\n",
        "for number in range (2,51,2):\n",
        "  total +=number\n",
        "print(\"sum of the even number\",total)"
      ],
      "metadata": {
        "colab": {
          "base_uri": "https://localhost:8080/",
          "height": 0
        },
        "id": "MmzVhhUq0j2R",
        "outputId": "b2dcacc5-bb19-4342-cb3c-ffc9f6faead8"
      },
      "execution_count": 17,
      "outputs": [
        {
          "output_type": "stream",
          "name": "stdout",
          "text": [
            "sum of the even number 650\n"
          ]
        }
      ]
    },
    {
      "cell_type": "markdown",
      "source": [
        "Question 14. Write a program to reverse a string using a while loop"
      ],
      "metadata": {
        "id": "sdukAVp13JJh"
      }
    },
    {
      "cell_type": "code",
      "source": [
        "text = input(\"enter some text:\")\n",
        "reversed_text = \"\"\n",
        "index = len(text)-1\n",
        "while index>=0:\n",
        "  reversed_text += text[index]\n",
        "  index-= 1\n",
        "print(\"reversed text:\",reversed_text)"
      ],
      "metadata": {
        "colab": {
          "base_uri": "https://localhost:8080/"
        },
        "id": "YZ1oBiXr2BbS",
        "outputId": "e21e46ff-5f2a-414e-862e-acdafa75e342"
      },
      "execution_count": 19,
      "outputs": [
        {
          "output_type": "stream",
          "name": "stdout",
          "text": [
            "enter some text:thakur\n",
            "reversed text: rukaht\n"
          ]
        }
      ]
    },
    {
      "cell_type": "code",
      "source": [],
      "metadata": {
        "id": "YZSHD-P2-Rgx"
      },
      "execution_count": 19,
      "outputs": []
    }
  ]
}
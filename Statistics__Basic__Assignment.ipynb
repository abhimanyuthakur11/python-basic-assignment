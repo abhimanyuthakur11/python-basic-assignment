{
  "nbformat": 4,
  "nbformat_minor": 0,
  "metadata": {
    "colab": {
      "provenance": []
    },
    "kernelspec": {
      "name": "python3",
      "display_name": "Python 3"
    },
    "language_info": {
      "name": "python"
    }
  },
  "cells": [
    {
      "cell_type": "markdown",
      "source": [
        "Statistics Basic Assignment"
      ],
      "metadata": {
        "id": "eM-G8wImzrAO"
      }
    },
    {
      "cell_type": "markdown",
      "source": [
        "Theory Question - Answer\n",
        "\n",
        "\n",
        "Question 1: What is statistics, and why is it important?\n",
        "- Statistics is the science of collecting, analyzing, interpreting, and presenting data. It is crucial because it helps us make informed decisions by providing a way to understand and interpret complex datasets.\n",
        "\n",
        "\n",
        "Question 2: What are the two main types of statistics?\n",
        "- The two main types of statistics are descriptive statistics and inferential statistics.\n",
        "\n",
        "\n",
        "Question 3: What are descriptive statistics?\n",
        "- Descriptive statistics summarize and organize data so it can be easily understood. Examples include measures of central tendency like mean, median, and mode, and measures of variability such as range and standard deviation.\n",
        "\n",
        "\n",
        "Question 4: What is inferential statistics?\n",
        "- Inferential statistics involve making predictions or inferences about a population based on a sample of data. It's used to test hypotheses and determine relationships between variables.\n",
        "\n",
        "\n",
        "Question 5: What is sampling in statistics?\n",
        "- Sampling is the process of selecting a subset of individuals from a population to estimate characteristics of the whole population.\n",
        "\n",
        "\n",
        "Question 6: What are the different types of sampling methods?\n",
        "- Common sampling methods include simple random sampling, stratified sampling, cluster sampling, and systematic sampling.\n",
        "\n",
        "\n",
        "Question 7: What is the difference between random and non-random sampling?\n",
        "- Random sampling ensures every individual has an equal chance of being selected, minimizing bias. Non-random sampling, such as convenience sampling, does not provide every individual an equal chance, which can introduce bias.\n",
        "\n",
        "\n",
        "Question 8: Define and give examples of qualitative and quantitative data?\n",
        "- Qualitative data describes categories or qualities (e.g., colors, brands). Quantitative data is numerical and can be measured (e.g., height, weight).\n",
        "\n",
        "\n",
        "Question 9: What are the different types of data in statistics?\n",
        "- Types of data include nominal, ordinal, interval, and ratio data.\n",
        "\n",
        "\n",
        "Question 10: Explain nominal, ordinal, interval, and ratio levels of measurement.\n",
        "-: 1) Nominal: Categorical data without a natural order.\n",
        "   2) Ordinal: Categorical data with a natural order.\n",
        "   3) Interval: Numerical data without a true zero (e.g., temperature).\n",
        "   4) Ratio: Numerical data with a true zero (e.g., height).\n",
        "\n",
        "\n",
        "Question 11: What is the measure of central tendency?\n",
        "- The measure of central tendency is a single value that describes the center of a data set. It includes mean, median, and mode.\n",
        "\n",
        "\n",
        "Question 12: Define mean, median, and mode.\n",
        "- Mean is the average of a data set.\n",
        "Median is the middle value when data is ordered.\n",
        "Mode is the most frequently occurring value.\n",
        "\n",
        "Question 13: What is the significance of the measure of central tendency?\n",
        "- It provides a summary statistic that represents a typical value in a dataset, helping in comparative analysis.\n",
        "\n",
        "Question 14: What is variance, and how is it calculated?\n",
        "- Variance measures how much values in a data set differ from the mean. It's calculated as the average of the squared differences between each data point and the mean.\n",
        "\n",
        "\n",
        "Question 15: What is standard deviation, and why is it important?\n",
        "- Standard deviation is the square root of the variance, indicating how spread out the data is. It is important for understanding variability and comparing different datasets.\n",
        "\n",
        "\n",
        "Question 16: Define and explain the term range in statistics?\n",
        "- The range is the difference between the highest and lowest values in a dataset. It gives an overview of the data’s spread.\n",
        "\n",
        "\n",
        "Question 17: What is the difference between variance and standard deviation?\n",
        "-: Variance is the average squared deviation from the mean, while standard deviation is the square root of the variance. Both measure data spread, but standard deviation is in the same units as the data.\n",
        "\n",
        "\n",
        "Question 18: What is skewness in a dataset?\n",
        "- Skewness indicates asymmetry in the distribution of data. It shows whether data is skewed to the left or right.\n",
        "\n",
        "\n",
        "Question 19: What does it mean if a dataset is positively or negatively skewed?\n",
        "- A positively skewed dataset has a longer right tail. A negatively skewed dataset has a longer left tail.\n",
        "\n",
        "\n",
        "Question 20: Define and explain kurtosis.\n",
        "- Kurtosis measures the \"tailedness\" of a distribution. High kurtosis indicates heavy tails, while low kurtosis indicates light tails.\n",
        "\n",
        "\n",
        "Question 21: What is the purpose of covariance?\n",
        "- Covariance measures the direction of the linear relationship between two variables. It shows whether an increase in one variable will result in an increase or decrease in another.\n",
        "\n",
        "\n",
        "Question 22: What does correlation measure in statistics?\n",
        "- Correlation measures the strength and direction of a linear relationship between two variables, ranging from -1 to 1.\n",
        "\n",
        "\n",
        "Question 23: What is the difference between covariance and correlation?\n",
        "- Covariance shows the direction of a relationship, while correlation indicates both the strength and direction, standardized between -1 and 1.\n",
        "\n",
        "\n",
        "Question 24: What are some real-world applications of statistics?\n",
        "- Statistics are used in various fields including market research, quality control, business forecasting, medicine, and social sciences, facilitating data-driven decisions.*"
      ],
      "metadata": {
        "id": "IHTaB5YMzve1"
      }
    },
    {
      "cell_type": "markdown",
      "source": [
        "Practical Question - Answer"
      ],
      "metadata": {
        "id": "W0mfbK7Hz01G"
      }
    },
    {
      "cell_type": "markdown",
      "source": [
        "Question 1: How do you calculate the mean, median, and mode of a dataset?"
      ],
      "metadata": {
        "id": "rfhQRYmT2jJT"
      }
    },
    {
      "cell_type": "code",
      "execution_count": 1,
      "metadata": {
        "colab": {
          "base_uri": "https://localhost:8080/"
        },
        "id": "g4Ddf4Ifze4l",
        "outputId": "7d52bf60-6f61-408c-cd90-66f2b254ab5e"
      },
      "outputs": [
        {
          "output_type": "stream",
          "name": "stdout",
          "text": [
            "Mean: 177.3416666666667\n",
            "Median: 177.5\n",
            "Mode: ModeResult(mode=np.float64(175.0), count=np.int64(2))\n"
          ]
        }
      ],
      "source": [
        "import numpy as np\n",
        "from scipy import stats\n",
        "data = [178,177,176,177,178.2,178,175,179,180,175,178.9,176.]\n",
        "mean = np.mean(data)\n",
        "median = np.median(data)\n",
        "mode = stats.mode(data)\n",
        "print(f\"Mean: {mean}\")\n",
        "print(f\"Median: {median}\")\n",
        "print(f\"Mode: {mode}\")\n",
        "#"
      ]
    },
    {
      "cell_type": "markdown",
      "source": [
        "Question 2: Write a Python program to compute the variance and standard deviation of a dataset."
      ],
      "metadata": {
        "id": "k8DJ6S1z29r9"
      }
    },
    {
      "cell_type": "code",
      "source": [
        "data = [10, 20, 20, 30, 40]\n",
        "variance = np.var(data)\n",
        "std_deviation = np.std(data)\n",
        "\n",
        "variance, std_deviation\n",
        "\n"
      ],
      "metadata": {
        "colab": {
          "base_uri": "https://localhost:8080/"
        },
        "id": "LsZ6NGgQ24W9",
        "outputId": "aff75f1f-2537-496c-93a4-ff0863dce7a9"
      },
      "execution_count": 2,
      "outputs": [
        {
          "output_type": "execute_result",
          "data": {
            "text/plain": [
              "(np.float64(104.0), np.float64(10.198039027185569))"
            ]
          },
          "metadata": {},
          "execution_count": 2
        }
      ]
    },
    {
      "cell_type": "markdown",
      "source": [
        "Question 3: Create a dataset and classify it into nominal, ordinal, interval, and ratio types."
      ],
      "metadata": {
        "id": "l1PVjZdU3Rdt"
      }
    },
    {
      "cell_type": "code",
      "source": [
        "dataset = {\n",
        "    \"Nominal\": [\"Red\", \"Blue\", \"Green\"],\n",
        "    \"Ordinal\": [\"Small\", \"Medium\", \"Large\"],\n",
        "    \"Interval\": [-10, 0, 10],\n",
        "    \"Ratio\": [5, 10, 15]\n",
        "}\n",
        "dataset\n",
        ""
      ],
      "metadata": {
        "colab": {
          "base_uri": "https://localhost:8080/"
        },
        "id": "THRbNE-M3MVD",
        "outputId": "4d146428-b364-4a1e-88d9-72b06dce84e7"
      },
      "execution_count": 3,
      "outputs": [
        {
          "output_type": "execute_result",
          "data": {
            "text/plain": [
              "{'Nominal': ['Red', 'Blue', 'Green'],\n",
              " 'Ordinal': ['Small', 'Medium', 'Large'],\n",
              " 'Interval': [-10, 0, 10],\n",
              " 'Ratio': [5, 10, 15]}"
            ]
          },
          "metadata": {},
          "execution_count": 3
        }
      ]
    },
    {
      "cell_type": "markdown",
      "source": [
        "Question 4: Implement sampling techniques like random sampling and stratified sampling.\n"
      ],
      "metadata": {
        "id": "1GiR83533csC"
      }
    },
    {
      "cell_type": "code",
      "source": [
        "from sklearn.model_selection import train_test_split\n",
        "\n",
        "data = range(1, 101)\n",
        "random_sample = np.random.choice(data, 10, replace=False)\n",
        "\n",
        "# For stratified sampling, assuming some stratification variable\n",
        "labels = ['A', 'B']\n",
        "stratified_sample, _ = train_test_split(data, test_size=0.9, stratify=[labels[i%2] for i in data])\n",
        "\n",
        "random_sample, stratified_sample"
      ],
      "metadata": {
        "colab": {
          "base_uri": "https://localhost:8080/"
        },
        "id": "pra_3Jtp3a4U",
        "outputId": "301c31fc-4e47-43f2-f0bf-73db912f54ee"
      },
      "execution_count": 4,
      "outputs": [
        {
          "output_type": "execute_result",
          "data": {
            "text/plain": [
              "(array([11, 17,  6, 60, 61, 50, 81, 94, 88, 97]),\n",
              " [47, 88, 32, 11, 98, 29, 54, 17, 97, 12])"
            ]
          },
          "metadata": {},
          "execution_count": 4
        }
      ]
    },
    {
      "cell_type": "markdown",
      "source": [
        "Question 5: Write a Python function to calculate the range of a dataset."
      ],
      "metadata": {
        "id": "oRPaK_AH3vNr"
      }
    },
    {
      "cell_type": "code",
      "source": [
        "def calculate_range(data):\n",
        "    return max(data) - min(data)\n",
        "\n",
        "data = [10, 20, 30, 40, 50]\n",
        "range_value = calculate_range(data)\n",
        "range_value\n",
        "#"
      ],
      "metadata": {
        "colab": {
          "base_uri": "https://localhost:8080/"
        },
        "id": "Meba9EI93pRJ",
        "outputId": "c8c777bf-a38a-4557-f3f3-da6f05453cea"
      },
      "execution_count": 5,
      "outputs": [
        {
          "output_type": "execute_result",
          "data": {
            "text/plain": [
              "40"
            ]
          },
          "metadata": {},
          "execution_count": 5
        }
      ]
    },
    {
      "cell_type": "markdown",
      "source": [
        "Question 6: Create a dataset and plot its histogram to visualize skewness."
      ],
      "metadata": {
        "id": "UBDIrrLg38TV"
      }
    },
    {
      "cell_type": "code",
      "source": [
        "import matplotlib.pyplot as plt\n",
        "\n",
        "data = [10, 20, 20, 30, 40]\n",
        "plt.hist(data)"
      ],
      "metadata": {
        "colab": {
          "base_uri": "https://localhost:8080/",
          "height": 482
        },
        "id": "tC56cZHu34yE",
        "outputId": "1f8e17b5-a4d7-4826-f1eb-0b1947509537"
      },
      "execution_count": 6,
      "outputs": [
        {
          "output_type": "execute_result",
          "data": {
            "text/plain": [
              "(array([1., 0., 0., 2., 0., 0., 1., 0., 0., 1.]),\n",
              " array([10., 13., 16., 19., 22., 25., 28., 31., 34., 37., 40.]),\n",
              " <BarContainer object of 10 artists>)"
            ]
          },
          "metadata": {},
          "execution_count": 6
        },
        {
          "output_type": "display_data",
          "data": {
            "text/plain": [
              "<Figure size 640x480 with 1 Axes>"
            ],
            "image/png": "[encoded data removed]"
          },
          "metadata": {}
        }
      ]
    },
    {
      "cell_type": "markdown",
      "source": [
        "Question 7: Calculate skewness and kurtosis of a dataset using Python libraries.\n"
      ],
      "metadata": {
        "id": "WLb0Casd4XqQ"
      }
    },
    {
      "cell_type": "code",
      "source": [
        "\n",
        "from scipy.stats import skew, kurtosis\n",
        "\n",
        "skewness = skew(data)\n",
        "kurt = kurtosis(data)\n",
        "\n",
        "skewness, kurt\n",
        ""
      ],
      "metadata": {
        "colab": {
          "base_uri": "https://localhost:8080/"
        },
        "id": "XKOcVDC34LDD",
        "outputId": "3cc9967e-a505-471b-b962-094beb8592bb"
      },
      "execution_count": 9,
      "outputs": [
        {
          "output_type": "execute_result",
          "data": {
            "text/plain": [
              "(np.float64(0.27154541788363945), np.float64(-1.044378698224852))"
            ]
          },
          "metadata": {},
          "execution_count": 9
        }
      ]
    },
    {
      "cell_type": "markdown",
      "source": [
        "Question 8: Generate a dataset and demonstrate positive and negative skewness."
      ],
      "metadata": {
        "id": "pJV_isLq5Bzg"
      }
    },
    {
      "cell_type": "code",
      "source": [
        "positive_skewed_data = np.random.exponential(scale=2, size=1000)\n",
        "negative_skewed_data = 1 / (np.random.exponential(scale=1, size=1000) + 1)\n",
        "\n",
        "plt.hist(positive_skewed_data, bins=30)\n",
        "plt.title('Positive Skewness')\n",
        "plt.show()\n",
        "\n",
        "plt.hist(negative_skewed_data, bins=30)\n",
        "plt.title('Negative Skewness')\n",
        "plt.show()"
      ],
      "metadata": {
        "colab": {
          "base_uri": "https://localhost:8080/",
          "height": 887
        },
        "id": "0v27Mdsa5Zrx",
        "outputId": "f92d38d6-4e69-4497-86ae-056730a639c7"
      },
      "execution_count": 13,
      "outputs": [
        {
          "output_type": "display_data",
          "data": {
            "text/plain": [
              "<Figure size 640x480 with 1 Axes>"
            ],
            "image/png": "[encoded data removed]"
          },
          "metadata": {}
        },
        {
          "output_type": "display_data",
          "data": {
            "text/plain": [
              "<Figure size 640x480 with 1 Axes>"
            ],
            "image/png": "[encoded data removed]"
          },
          "metadata": {}
        }
      ]
    },
    {
      "cell_type": "markdown",
      "source": [
        "Question 9: Write a Python script to calculate covariance between two datasets."
      ],
      "metadata": {
        "id": "0Z3Fw9dc6Hfv"
      }
    },
    {
      "cell_type": "code",
      "source": [
        "x = [10, 20, 30]\n",
        "y = [12, 24, 36]\n",
        "covariance = np.cov(x, y)[0][1]\n",
        "covariance\n",
        ""
      ],
      "metadata": {
        "colab": {
          "base_uri": "https://localhost:8080/"
        },
        "id": "T3EGO4sy6E8_",
        "outputId": "ebd90c22-34e1-49ad-bfd3-e04bdb77ab63"
      },
      "execution_count": 14,
      "outputs": [
        {
          "output_type": "execute_result",
          "data": {
            "text/plain": [
              "np.float64(120.0)"
            ]
          },
          "metadata": {},
          "execution_count": 14
        }
      ]
    },
    {
      "cell_type": "markdown",
      "source": [
        "Question 10: Write a Python script to calculate the correlation coefficient between two datasets."
      ],
      "metadata": {
        "id": "j2WUIbJ16TgY"
      }
    },
    {
      "cell_type": "code",
      "source": [
        "correlation = np.corrcoef(x, y)[0][1]\n",
        "correlation"
      ],
      "metadata": {
        "colab": {
          "base_uri": "https://localhost:8080/"
        },
        "id": "duOKyw6f6Rdn",
        "outputId": "aa196581-a5c5-405a-a0c9-76868898fad7"
      },
      "execution_count": 15,
      "outputs": [
        {
          "output_type": "execute_result",
          "data": {
            "text/plain": [
              "np.float64(1.0)"
            ]
          },
          "metadata": {},
          "execution_count": 15
        }
      ]
    },
    {
      "cell_type": "markdown",
      "source": [
        "Question 11: Create a scatter plot to visualize the relationship between two variables"
      ],
      "metadata": {
        "id": "iFxhJmia6eOe"
      }
    },
    {
      "cell_type": "code",
      "source": [
        "plt.scatter(x, y)\n",
        "plt.title('Scatter Plot')\n",
        "plt.xlabel('X')\n",
        "plt.ylabel('Y')\n",
        "plt.show()"
      ],
      "metadata": {
        "colab": {
          "base_uri": "https://localhost:8080/",
          "height": 472
        },
        "id": "8PJXxfKa6cCT",
        "outputId": "1addc1e0-1784-4b53-c9e7-b7f5ab09a32c"
      },
      "execution_count": 16,
      "outputs": [
        {
          "output_type": "display_data",
          "data": {
            "text/plain": [
              "<Figure size 640x480 with 1 Axes>"
            ],
            "image/png": "[encoded data removed]"
          },
          "metadata": {}
        }
      ]
    },
    {
      "cell_type": "markdown",
      "source": [
        "Question 12: Implement and compare simple random sampling and systematic sampling."
      ],
      "metadata": {
        "id": "R2p3zxMb6sfN"
      }
    },
    {
      "cell_type": "code",
      "source": [
        "simple_random = np.random.choice(range(1, 101), 10, replace=False)\n",
        "\n",
        "# Systematic sampling\n",
        "data = list(range(1, 101))\n",
        "interval = len(data) // 10\n",
        "systematic_sample = [data[i] for i in range(0, len(data), interval)]\n",
        "\n",
        "simple_random, systematic_sample"
      ],
      "metadata": {
        "colab": {
          "base_uri": "https://localhost:8080/"
        },
        "id": "963UcM2k6koh",
        "outputId": "a365fa77-b523-46e3-e15c-c07abaa26ce0"
      },
      "execution_count": 18,
      "outputs": [
        {
          "output_type": "execute_result",
          "data": {
            "text/plain": [
              "(array([79, 35, 28, 62, 26, 27, 91, 68, 33, 47]),\n",
              " [1, 11, 21, 31, 41, 51, 61, 71, 81, 91])"
            ]
          },
          "metadata": {},
          "execution_count": 18
        }
      ]
    },
    {
      "cell_type": "markdown",
      "source": [
        "Question 13: Calculate the mean, median, and mode of grouped data."
      ],
      "metadata": {
        "id": "HidvGAXF6tF9"
      }
    },
    {
      "cell_type": "code",
      "source": [
        "grouped_data = [5, 10, 10, 15, 20]\n",
        "mean = np.mean(grouped_data)\n",
        "median = np.median(grouped_data)\n",
        "mode = stats.mode(grouped_data)\n",
        "\n",
        "mean, median, mode.mode"
      ],
      "metadata": {
        "colab": {
          "base_uri": "https://localhost:8080/"
        },
        "id": "brhdhe1R6t7T",
        "outputId": "77f68d66-2677-4101-af1c-af26ed6b4412"
      },
      "execution_count": 19,
      "outputs": [
        {
          "output_type": "execute_result",
          "data": {
            "text/plain": [
              "(np.float64(12.0), np.float64(10.0), np.int64(10))"
            ]
          },
          "metadata": {},
          "execution_count": 19
        }
      ]
    },
    {
      "cell_type": "markdown",
      "source": [
        "Question 14: Simulate data using Python and calculate its central tendency and dispersion."
      ],
      "metadata": {
        "id": "ZjP5WPE06ufD"
      }
    },
    {
      "cell_type": "code",
      "source": [
        "sim_data = np.random.normal(0, 1, 1000)\n",
        "mean = np.mean(sim_data)\n",
        "median = np.median(sim_data)\n",
        "std_dev = np.std(sim_data)\n",
        "\n",
        "mean, median, std_dev"
      ],
      "metadata": {
        "colab": {
          "base_uri": "https://localhost:8080/"
        },
        "id": "9-adPtLF7yPa",
        "outputId": "11fa32f2-1053-4cb0-a89c-f9c275828f4c"
      },
      "execution_count": 20,
      "outputs": [
        {
          "output_type": "execute_result",
          "data": {
            "text/plain": [
              "(np.float64(0.04010160650689158),\n",
              " np.float64(0.00663354326248815),\n",
              " np.float64(1.0106333693970428))"
            ]
          },
          "metadata": {},
          "execution_count": 20
        }
      ]
    },
    {
      "cell_type": "markdown",
      "source": [
        "Question 15: Use NumPy or pandas to summarize a dataset’s descriptive statistics."
      ],
      "metadata": {
        "id": "G3PijtcH7yzo"
      }
    },
    {
      "cell_type": "code",
      "source": [
        "import pandas as pd\n",
        "\n",
        "df = pd.DataFrame(sim_data, columns=['Values'])\n",
        "summary = df.describe()\n",
        "\n",
        "summary"
      ],
      "metadata": {
        "colab": {
          "base_uri": "https://localhost:8080/",
          "height": 300
        },
        "id": "_ery4dJO7zSk",
        "outputId": "171a7daa-67cd-4dd3-ea11-090501bab9ef"
      },
      "execution_count": 21,
      "outputs": [
        {
          "output_type": "execute_result",
          "data": {
            "text/plain": [
              "            Values\n",
              "count  1000.000000\n",
              "mean      0.040102\n",
              "std       1.011139\n",
              "min      -3.004611\n",
              "25%      -0.623591\n",
              "50%       0.006634\n",
              "75%       0.735176\n",
              "max       5.084163"
            ],
            "text/html": [
              "\n",
              "  <div id=\"df-ac62b2c3-6666-4f5a-b9b3-14e3b367e628\" class=\"colab-df-container\">\n",
              "    <div>\n",
              "<style scoped>\n",
              "    .dataframe tbody tr th:only-of-type {\n",
              "        vertical-align: middle;\n",
              "    }\n",
              "\n",
              "    .dataframe tbody tr th {\n",
              "        vertical-align: top;\n",
              "    }\n",
              "\n",
              "    .dataframe thead th {\n",
              "        text-align: right;\n",
              "    }\n",
              "</style>\n",
              "<table border=\"1\" class=\"dataframe\">\n",
              "  <thead>\n",
              "    <tr style=\"text-align: right;\">\n",
              "      <th></th>\n",
              "      <th>Values</th>\n",
              "    </tr>\n",
              "  </thead>\n",
              "  <tbody>\n",
              "    <tr>\n",
              "      <th>count</th>\n",
              "      <td>1000.000000</td>\n",
              "    </tr>\n",
              "    <tr>\n",
              "      <th>mean</th>\n",
              "      <td>0.040102</td>\n",
              "    </tr>\n",
              "    <tr>\n",
              "      <th>std</th>\n",
              "      <td>1.011139</td>\n",
              "    </tr>\n",
              "    <tr>\n",
              "      <th>min</th>\n",
              "      <td>-3.004611</td>\n",
              "    </tr>\n",
              "    <tr>\n",
              "      <th>25%</th>\n",
              "      <td>-0.623591</td>\n",
              "    </tr>\n",
              "    <tr>\n",
              "      <th>50%</th>\n",
              "      <td>0.006634</td>\n",
              "    </tr>\n",
              "    <tr>\n",
              "      <th>75%</th>\n",
              "      <td>0.735176</td>\n",
              "    </tr>\n",
              "    <tr>\n",
              "      <th>max</th>\n",
              "      <td>5.084163</td>\n",
              "    </tr>\n",
              "  </tbody>\n",
              "</table>\n",
              "</div>\n",
              "    <div class=\"colab-df-buttons\">\n",
              "\n",
              "  <div class=\"colab-df-container\">\n",
              "    <button class=\"colab-df-convert\" onclick=\"convertToInteractive('df-ac62b2c3-6666-4f5a-b9b3-14e3b367e628')\"\n",
              "            title=\"Convert this dataframe to an interactive table.\"\n",
              "            style=\"display:none;\">\n",
              "\n",
              "  <svg xmlns=\"http://www.w3.org/2000/svg\" height=\"24px\" viewBox=\"0 -960 960 960\">\n",
              "    <path d=\"M120-120v-720h720v720H120Zm60-500h600v-160H180v160Zm220 220h160v-160H400v160Zm0 220h160v-160H400v160ZM180-400h160v-160H180v160Zm440 0h160v-160H620v160ZM180-180h160v-160H180v160Zm440 0h160v-160H620v160Z\"/>\n",
              "  </svg>\n",
              "    </button>\n",
              "\n",
              "  <style>\n",
              "    .colab-df-container {\n",
              "      display:flex;\n",
              "      gap: 12px;\n",
              "    }\n",
              "\n",
              "    .colab-df-convert {\n",
              "      background-color: #E8F0FE;\n",
              "      border: none;\n",
              "      border-radius: 50%;\n",
              "      cursor: pointer;\n",
              "      display: none;\n",
              "      fill: #1967D2;\n",
              "      height: 32px;\n",
              "      padding: 0 0 0 0;\n",
              "      width: 32px;\n",
              "    }\n",
              "\n",
              "    .colab-df-convert:hover {\n",
              "      background-color: #E2EBFA;\n",
              "      box-shadow: 0px 1px 2px rgba(60, 64, 67, 0.3), 0px 1px 3px 1px rgba(60, 64, 67, 0.15);\n",
              "      fill: #174EA6;\n",
              "    }\n",
              "\n",
              "    .colab-df-buttons div {\n",
              "      margin-bottom: 4px;\n",
              "    }\n",
              "\n",
              "    [theme=dark] .colab-df-convert {\n",
              "      background-color: #3B4455;\n",
              "      fill: #D2E3FC;\n",
              "    }\n",
              "\n",
              "    [theme=dark] .colab-df-convert:hover {\n",
              "      background-color: #434B5C;\n",
              "      box-shadow: 0px 1px 3px 1px rgba(0, 0, 0, 0.15);\n",
              "      filter: drop-shadow(0px 1px 2px rgba(0, 0, 0, 0.3));\n",
              "      fill: #FFFFFF;\n",
              "    }\n",
              "  </style>\n",
              "\n",
              "    <script>\n",
              "      const buttonEl =\n",
              "        document.querySelector('#df-ac62b2c3-6666-4f5a-b9b3-14e3b367e628 button.colab-df-convert');\n",
              "      buttonEl.style.display =\n",
              "        google.colab.kernel.accessAllowed ? 'block' : 'none';\n",
              "\n",
              "      async function convertToInteractive(key) {\n",
              "        const element = document.querySelector('#df-ac62b2c3-6666-4f5a-b9b3-14e3b367e628');\n",
              "        const dataTable =\n",
              "          await google.colab.kernel.invokeFunction('convertToInteractive',\n",
              "                                                    [key], {});\n",
              "        if (!dataTable) return;\n",
              "\n",
              "        const docLinkHtml = 'Like what you see? Visit the ' +\n",
              "          '<a target=\"_blank\" href=https://colab.research.google.com/notebooks/data_table.ipynb>data table notebook</a>'\n",
              "          + ' to learn more about interactive tables.';\n",
              "        element.innerHTML = '';\n",
              "        dataTable['output_type'] = 'display_data';\n",
              "        await google.colab.output.renderOutput(dataTable, element);\n",
              "        const docLink = document.createElement('div');\n",
              "        docLink.innerHTML = docLinkHtml;\n",
              "        element.appendChild(docLink);\n",
              "      }\n",
              "    </script>\n",
              "  </div>\n",
              "\n",
              "\n",
              "    <div id=\"df-78649b3b-fb5f-42d9-bfdc-7dc76f6a2cd6\">\n",
              "      <button class=\"colab-df-quickchart\" onclick=\"quickchart('df-78649b3b-fb5f-42d9-bfdc-7dc76f6a2cd6')\"\n",
              "                title=\"Suggest charts\"\n",
              "                style=\"display:none;\">\n",
              "\n",
              "<svg xmlns=\"http://www.w3.org/2000/svg\" height=\"24px\"viewBox=\"0 0 24 24\"\n",
              "     width=\"24px\">\n",
              "    <g>\n",
              "        <path d=\"M19 3H5c-1.1 0-2 .9-2 2v14c0 1.1.9 2 2 2h14c1.1 0 2-.9 2-2V5c0-1.1-.9-2-2-2zM9 17H7v-7h2v7zm4 0h-2V7h2v10zm4 0h-2v-4h2v4z\"/>\n",
              "    </g>\n",
              "</svg>\n",
              "      </button>\n",
              "\n",
              "<style>\n",
              "  .colab-df-quickchart {\n",
              "      --bg-color: #E8F0FE;\n",
              "      --fill-color: #1967D2;\n",
              "      --hover-bg-color: #E2EBFA;\n",
              "      --hover-fill-color: #174EA6;\n",
              "      --disabled-fill-color: #AAA;\n",
              "      --disabled-bg-color: #DDD;\n",
              "  }\n",
              "\n",
              "  [theme=dark] .colab-df-quickchart {\n",
              "      --bg-color: #3B4455;\n",
              "      --fill-color: #D2E3FC;\n",
              "      --hover-bg-color: #434B5C;\n",
              "      --hover-fill-color: #FFFFFF;\n",
              "      --disabled-bg-color: #3B4455;\n",
              "      --disabled-fill-color: #666;\n",
              "  }\n",
              "\n",
              "  .colab-df-quickchart {\n",
              "    background-color: var(--bg-color);\n",
              "    border: none;\n",
              "    border-radius: 50%;\n",
              "    cursor: pointer;\n",
              "    display: none;\n",
              "    fill: var(--fill-color);\n",
              "    height: 32px;\n",
              "    padding: 0;\n",
              "    width: 32px;\n",
              "  }\n",
              "\n",
              "  .colab-df-quickchart:hover {\n",
              "    background-color: var(--hover-bg-color);\n",
              "    box-shadow: 0 1px 2px rgba(60, 64, 67, 0.3), 0 1px 3px 1px rgba(60, 64, 67, 0.15);\n",
              "    fill: var(--button-hover-fill-color);\n",
              "  }\n",
              "\n",
              "  .colab-df-quickchart-complete:disabled,\n",
              "  .colab-df-quickchart-complete:disabled:hover {\n",
              "    background-color: var(--disabled-bg-color);\n",
              "    fill: var(--disabled-fill-color);\n",
              "    box-shadow: none;\n",
              "  }\n",
              "\n",
              "  .colab-df-spinner {\n",
              "    border: 2px solid var(--fill-color);\n",
              "    border-color: transparent;\n",
              "    border-bottom-color: var(--fill-color);\n",
              "    animation:\n",
              "      spin 1s steps(1) infinite;\n",
              "  }\n",
              "\n",
              "  @keyframes spin {\n",
              "    0% {\n",
              "      border-color: transparent;\n",
              "      border-bottom-color: var(--fill-color);\n",
              "      border-left-color: var(--fill-color);\n",
              "    }\n",
              "    20% {\n",
              "      border-color: transparent;\n",
              "      border-left-color: var(--fill-color);\n",
              "      border-top-color: var(--fill-color);\n",
              "    }\n",
              "    30% {\n",
              "      border-color: transparent;\n",
              "      border-left-color: var(--fill-color);\n",
              "      border-top-color: var(--fill-color);\n",
              "      border-right-color: var(--fill-color);\n",
              "    }\n",
              "    40% {\n",
              "      border-color: transparent;\n",
              "      border-right-color: var(--fill-color);\n",
              "      border-top-color: var(--fill-color);\n",
              "    }\n",
              "    60% {\n",
              "      border-color: transparent;\n",
              "      border-right-color: var(--fill-color);\n",
              "    }\n",
              "    80% {\n",
              "      border-color: transparent;\n",
              "      border-right-color: var(--fill-color);\n",
              "      border-bottom-color: var(--fill-color);\n",
              "    }\n",
              "    90% {\n",
              "      border-color: transparent;\n",
              "      border-bottom-color: var(--fill-color);\n",
              "    }\n",
              "  }\n",
              "</style>\n",
              "\n",
              "      <script>\n",
              "        async function quickchart(key) {\n",
              "          const quickchartButtonEl =\n",
              "            document.querySelector('#' + key + ' button');\n",
              "          quickchartButtonEl.disabled = true;  // To prevent multiple clicks.\n",
              "          quickchartButtonEl.classList.add('colab-df-spinner');\n",
              "          try {\n",
              "            const charts = await google.colab.kernel.invokeFunction(\n",
              "                'suggestCharts', [key], {});\n",
              "          } catch (error) {\n",
              "            console.error('Error during call to suggestCharts:', error);\n",
              "          }\n",
              "          quickchartButtonEl.classList.remove('colab-df-spinner');\n",
              "          quickchartButtonEl.classList.add('colab-df-quickchart-complete');\n",
              "        }\n",
              "        (() => {\n",
              "          let quickchartButtonEl =\n",
              "            document.querySelector('#df-78649b3b-fb5f-42d9-bfdc-7dc76f6a2cd6 button');\n",
              "          quickchartButtonEl.style.display =\n",
              "            google.colab.kernel.accessAllowed ? 'block' : 'none';\n",
              "        })();\n",
              "      </script>\n",
              "    </div>\n",
              "\n",
              "  <div id=\"id_db4533f5-ba36-44c2-b393-a6d54ea461da\">\n",
              "    <style>\n",
              "      .colab-df-generate {\n",
              "        background-color: #E8F0FE;\n",
              "        border: none;\n",
              "        border-radius: 50%;\n",
              "        cursor: pointer;\n",
              "        display: none;\n",
              "        fill: #1967D2;\n",
              "        height: 32px;\n",
              "        padding: 0 0 0 0;\n",
              "        width: 32px;\n",
              "      }\n",
              "\n",
              "      .colab-df-generate:hover {\n",
              "        background-color: #E2EBFA;\n",
              "        box-shadow: 0px 1px 2px rgba(60, 64, 67, 0.3), 0px 1px 3px 1px rgba(60, 64, 67, 0.15);\n",
              "        fill: #174EA6;\n",
              "      }\n",
              "\n",
              "      [theme=dark] .colab-df-generate {\n",
              "        background-color: #3B4455;\n",
              "        fill: #D2E3FC;\n",
              "      }\n",
              "\n",
              "      [theme=dark] .colab-df-generate:hover {\n",
              "        background-color: #434B5C;\n",
              "        box-shadow: 0px 1px 3px 1px rgba(0, 0, 0, 0.15);\n",
              "        filter: drop-shadow(0px 1px 2px rgba(0, 0, 0, 0.3));\n",
              "        fill: #FFFFFF;\n",
              "      }\n",
              "    </style>\n",
              "    <button class=\"colab-df-generate\" onclick=\"generateWithVariable('summary')\"\n",
              "            title=\"Generate code using this dataframe.\"\n",
              "            style=\"display:none;\">\n",
              "\n",
              "  <svg xmlns=\"http://www.w3.org/2000/svg\" height=\"24px\"viewBox=\"0 0 24 24\"\n",
              "       width=\"24px\">\n",
              "    <path d=\"M7,19H8.4L18.45,9,17,7.55,7,17.6ZM5,21V16.75L18.45,3.32a2,2,0,0,1,2.83,0l1.4,1.43a1.91,1.91,0,0,1,.58,1.4,1.91,1.91,0,0,1-.58,1.4L9.25,21ZM18.45,9,17,7.55Zm-12,3A5.31,5.31,0,0,0,4.9,8.1,5.31,5.31,0,0,0,1,6.5,5.31,5.31,0,0,0,4.9,4.9,5.31,5.31,0,0,0,6.5,1,5.31,5.31,0,0,0,8.1,4.9,5.31,5.31,0,0,0,12,6.5,5.46,5.46,0,0,0,6.5,12Z\"/>\n",
              "  </svg>\n",
              "    </button>\n",
              "    <script>\n",
              "      (() => {\n",
              "      const buttonEl =\n",
              "        document.querySelector('#id_db4533f5-ba36-44c2-b393-a6d54ea461da button.colab-df-generate');\n",
              "      buttonEl.style.display =\n",
              "        google.colab.kernel.accessAllowed ? 'block' : 'none';\n",
              "\n",
              "      buttonEl.onclick = () => {\n",
              "        google.colab.notebook.generateWithVariable('summary');\n",
              "      }\n",
              "      })();\n",
              "    </script>\n",
              "  </div>\n",
              "\n",
              "    </div>\n",
              "  </div>\n"
            ],
            "application/vnd.google.colaboratory.intrinsic+json": {
              "type": "dataframe",
              "variable_name": "summary",
              "summary": "{\n  \"name\": \"summary\",\n  \"rows\": 8,\n  \"fields\": [\n    {\n      \"column\": \"Values\",\n      \"properties\": {\n        \"dtype\": \"number\",\n        \"std\": 353.39643005983567,\n        \"min\": -3.004610966146269,\n        \"max\": 1000.0,\n        \"num_unique_values\": 8,\n        \"samples\": [\n          0.04010160650689158,\n          0.00663354326248815,\n          1000.0\n        ],\n        \"semantic_type\": \"\",\n        \"description\": \"\"\n      }\n    }\n  ]\n}"
            }
          },
          "metadata": {},
          "execution_count": 21
        }
      ]
    },
    {
      "cell_type": "markdown",
      "source": [
        "Question 16: Plot a boxplot to understand the spread and identify outliers."
      ],
      "metadata": {
        "id": "rFV_qY7E7zp_"
      }
    },
    {
      "cell_type": "code",
      "source": [
        "plt.boxplot(sim_data)\n",
        "plt.title('Boxplot')\n",
        "plt.show()"
      ],
      "metadata": {
        "colab": {
          "base_uri": "https://localhost:8080/",
          "height": 452
        },
        "id": "svd6kzBU70Y4",
        "outputId": "b859608f-d760-4289-973f-7d8b69aba75b"
      },
      "execution_count": 22,
      "outputs": [
        {
          "output_type": "display_data",
          "data": {
            "text/plain": [
              "<Figure size 640x480 with 1 Axes>"
            ],
            "image/png": "[encoded data removed]"
          },
          "metadata": {}
        }
      ]
    },
    {
      "cell_type": "markdown",
      "source": [
        "Question 17: Calculate the interquartile range (IQR) of a dataset."
      ],
      "metadata": {
        "id": "atB8eLyd8nAc"
      }
    },
    {
      "cell_type": "code",
      "source": [
        "Q1 = np.percentile(sim_data, 25)\n",
        "Q3 = np.percentile(sim_data, 75)\n",
        "IQR = Q3 - Q1\n",
        "\n",
        "IQR"
      ],
      "metadata": {
        "colab": {
          "base_uri": "https://localhost:8080/"
        },
        "id": "cj667lFm8kEq",
        "outputId": "de106b80-f4b4-4de3-d1ed-79a77847cc08"
      },
      "execution_count": 23,
      "outputs": [
        {
          "output_type": "execute_result",
          "data": {
            "text/plain": [
              "np.float64(1.3587677606342725)"
            ]
          },
          "metadata": {},
          "execution_count": 23
        }
      ]
    },
    {
      "cell_type": "markdown",
      "source": [
        "Question 18: Implement Z-score normalization and explain its significance."
      ],
      "metadata": {
        "id": "IPrHLivF8_XF"
      }
    },
    {
      "cell_type": "code",
      "source": [
        "z_scores = (sim_data - np.mean(sim_data)) / np.std(sim_data)\n",
        "\n",
        "# Z-score normalization transforms data into a distribution with a mean of 0 and standard deviation of 1.\n",
        "z_scores\n",
        ""
      ],
      "metadata": {
        "colab": {
          "base_uri": "https://localhost:8080/"
        },
        "id": "Pq_Dfq8P87YT",
        "outputId": "910b22c9-3cf9-4410-fb91-612d0d849959"
      },
      "execution_count": 24,
      "outputs": [
        {
          "output_type": "execute_result",
          "data": {
            "text/plain": [
              "array([ 4.08854666e-01, -9.77206599e-01,  1.21126802e+00, -3.36061205e-01,\n",
              "       -3.80344416e-02, -3.00921738e-01, -5.20348774e-01, -3.83244123e-01,\n",
              "       -6.72960849e-01, -2.18384380e+00,  6.66964658e-02, -6.56325952e-01,\n",
              "       -2.37196031e+00, -1.11518960e+00, -2.14253546e-01, -5.98827804e-01,\n",
              "        1.54002764e+00, -6.98106271e-01,  4.66963352e-01,  4.99099067e+00,\n",
              "       -2.40706090e+00,  1.30926879e-01, -1.21932764e+00, -3.98341137e-01,\n",
              "        1.55722105e+00, -4.57846157e-01, -9.03052187e-01,  9.01301659e-01,\n",
              "       -1.37277835e+00, -1.92053822e-01,  5.16639646e-01,  1.78182955e-01,\n",
              "        6.76526434e-01,  1.37123539e-01, -7.12975987e-01, -3.32655091e-01,\n",
              "        1.69720549e+00, -1.44623334e+00, -9.70007544e-01,  6.07645369e-02,\n",
              "        5.00740901e-01,  1.18047955e+00, -5.62527596e-01,  9.04079626e-01,\n",
              "       -1.66612328e-01,  3.82525719e-01,  5.62078694e-01, -3.77289575e-01,\n",
              "       -1.25232725e+00, -2.06923299e+00, -3.01359248e-01, -7.09024588e-01,\n",
              "       -1.03021283e+00,  9.76865825e-01,  2.02591158e-01, -2.44697213e-01,\n",
              "       -2.95018233e+00,  4.59421250e-01, -1.87498079e+00, -1.12276678e+00,\n",
              "       -3.43317635e-01,  2.42467922e-01,  5.78865842e-01, -6.57862318e-01,\n",
              "       -9.18574021e-01, -1.26413902e+00, -1.07586056e+00,  1.23621799e+00,\n",
              "       -8.18962117e-01, -1.26083423e-01, -1.54768425e+00,  7.02700396e-01,\n",
              "        1.35761282e-01, -3.00033384e-01,  1.16869031e+00,  4.25589471e-01,\n",
              "       -5.79166528e-02,  1.69822266e+00,  2.08742004e-01, -2.44094391e+00,\n",
              "        5.32485874e-01,  9.66538839e-01, -1.22439526e+00, -5.99302043e-01,\n",
              "       -1.32121908e+00, -6.86896910e-01,  5.53594808e-01, -1.10798449e+00,\n",
              "       -5.52441406e-01, -1.05453689e-01, -4.11391141e-01,  1.13095098e+00,\n",
              "       -8.53932084e-01,  1.20288562e-01, -7.60826237e-01,  1.23583632e+00,\n",
              "        1.37545743e+00,  6.17187458e-01, -1.01908343e+00,  1.35510874e+00,\n",
              "        2.80424118e+00, -8.70982184e-02,  7.24778668e-01,  1.54609529e-01,\n",
              "       -2.12538602e+00,  1.05025654e+00, -6.21765903e-01, -1.47689525e-01,\n",
              "        2.34719155e-01, -6.41347891e-01,  1.45901213e+00,  6.97802671e-01,\n",
              "        1.08538110e+00, -9.58072977e-01, -1.18033747e+00, -3.03875918e-01,\n",
              "        1.51988478e-01,  2.92288319e-01,  1.50407458e+00,  2.95248526e+00,\n",
              "        8.31133641e-01,  1.25205043e+00, -1.42246406e+00,  1.19662379e+00,\n",
              "        5.02517149e-01,  8.12428281e-01,  8.97315291e-01,  4.00921781e-01,\n",
              "        8.93115219e-01, -3.41965854e-01, -2.75419042e+00, -3.38492379e-01,\n",
              "        4.26277873e-01,  7.36074231e-01,  1.03092078e+00, -4.18567166e-01,\n",
              "        2.60581559e-01, -1.06633543e+00, -1.17904081e+00,  5.26488495e-01,\n",
              "       -5.58851156e-01,  5.00924444e-01, -2.13463493e-01, -1.60934732e-01,\n",
              "        1.06987909e+00, -1.42548285e+00,  1.20551441e-01, -4.21181841e-01,\n",
              "       -1.40310211e+00,  3.19675008e-02, -6.59071642e-01,  6.54152723e-01,\n",
              "        2.53761696e-01,  9.28140608e-01, -7.15281428e-01, -8.53606672e-01,\n",
              "        1.67174013e+00,  4.08968761e-01,  2.20581835e+00,  8.35487335e-01,\n",
              "       -9.20299793e-01, -7.94639562e-01, -4.29152236e-01, -5.02882989e-02,\n",
              "       -6.18526371e-01,  1.80267658e+00,  5.98171699e-01, -2.89280138e-01,\n",
              "        1.71454511e+00,  1.70486259e-01, -3.25884852e-01,  3.68091481e-01,\n",
              "        1.66851169e+00,  6.77521963e-01, -1.07575895e+00, -1.48126074e+00,\n",
              "        1.07260893e+00,  5.56300953e-02,  1.09921504e+00, -2.65930319e-01,\n",
              "       -1.71061808e+00,  3.79420926e-01,  1.87145240e-01,  5.54871964e-01,\n",
              "        1.20646578e+00, -7.21896992e-01,  1.92538064e+00, -1.75914921e+00,\n",
              "       -1.81025423e+00,  7.41394502e-01,  1.78075712e+00,  1.19894231e+00,\n",
              "        1.40410499e+00,  1.52035942e+00, -4.03927763e-01,  8.58548681e-01,\n",
              "        4.69592089e-01,  4.99871238e-01,  4.67432606e-01, -3.82307386e-01,\n",
              "       -5.84563114e-01, -3.02421219e-01, -1.49191696e-01, -6.03128998e-01,\n",
              "        6.97554993e-01, -5.53344950e-01,  8.25544169e-01,  8.96980238e-01,\n",
              "       -4.67340009e-01, -6.47849849e-01, -1.48614056e+00,  3.06574702e-01,\n",
              "       -1.25767492e+00,  5.06050846e-01,  3.29505417e-01,  5.46376441e-01,\n",
              "        3.01328532e-01, -9.25359891e-01,  7.71968540e-02, -1.23954338e-01,\n",
              "       -6.20004781e-01,  2.28100325e-01, -3.31348395e-01,  9.09082810e-01,\n",
              "        2.65519878e-01,  1.75969222e-01, -8.52121984e-01, -1.68305389e+00,\n",
              "       -4.19274191e-01,  1.33637280e+00, -1.14419399e+00, -1.49076990e+00,\n",
              "        9.85169280e-01, -5.75478260e-01,  1.00199382e+00,  4.10413381e-01,\n",
              "       -3.91803341e-01,  1.37353695e+00, -1.08814192e+00, -8.67189397e-01,\n",
              "       -1.56200076e-01,  5.41529944e-01, -8.68005767e-02,  7.27021001e-01,\n",
              "        1.12502972e-01,  1.74284579e+00, -7.24797022e-01,  1.70742949e+00,\n",
              "       -1.14532326e+00, -9.51490047e-01, -2.50769925e-01, -4.12272154e-01,\n",
              "        1.22458530e+00, -2.27247064e-01,  6.75897845e-01, -2.33944176e-01,\n",
              "        1.68706481e+00, -6.00830554e-01,  4.12990092e-01,  1.22683117e+00,\n",
              "        1.01670651e+00,  5.79893109e-03,  1.00005983e+00, -1.56734667e+00,\n",
              "       -1.07708727e+00,  1.18279035e+00, -4.79958053e-02,  1.71417055e+00,\n",
              "       -1.44565105e-01, -2.53765034e-01,  1.59313190e-01,  1.95964370e-01,\n",
              "        3.84612116e-01, -9.07394280e-01,  4.75939318e-01, -4.91273048e-01,\n",
              "       -8.79111640e-01, -9.20796690e-01,  5.24756219e-01,  1.52291931e+00,\n",
              "        6.71421785e-01,  1.89737220e+00, -6.41012240e-01, -1.31675635e+00,\n",
              "       -1.63609301e-01, -1.51717051e+00, -5.91887668e-01, -1.10035310e+00,\n",
              "        3.15985343e-01, -8.68395574e-02, -6.27790656e-02, -1.33884365e+00,\n",
              "       -7.79977280e-01, -1.07520748e+00,  3.35483559e-01,  6.63470223e-01,\n",
              "        1.47842081e+00,  1.73537547e-01, -9.31716474e-01, -2.40373560e-02,\n",
              "       -1.24554340e+00,  6.88857943e-01,  1.04301273e-01,  9.30373026e-01,\n",
              "        1.89443826e-01,  2.39849254e-01,  1.29683275e+00,  1.15136958e+00,\n",
              "        1.08640802e+00,  2.86330581e-01, -9.11414936e-01, -5.08789899e-01,\n",
              "        5.88258971e-01, -7.12231307e-01,  2.50326407e+00,  1.91936830e+00,\n",
              "        2.25106533e-01,  7.75929010e-01,  1.25798195e+00,  1.35522158e+00,\n",
              "       -3.47122686e-02, -5.74299169e-02, -4.09420547e-01, -9.10874336e-01,\n",
              "       -2.38997518e-02, -1.26553614e-01,  4.51059373e-01,  2.66448062e-01,\n",
              "       -1.04940834e+00,  1.26366634e+00,  2.24205481e-01,  9.74749305e-01,\n",
              "        8.11412137e-02,  2.08781578e+00, -2.93858376e-01,  1.40918605e+00,\n",
              "       -4.64489630e-01, -4.12149138e-01,  8.10697361e-01,  5.47156712e-01,\n",
              "       -2.98087598e-01,  3.49995422e-01, -1.35337633e+00, -1.02219257e+00,\n",
              "       -2.74310724e-02, -4.08475927e-01, -2.08906960e-01, -9.87117829e-02,\n",
              "        5.52606098e-01,  1.90846970e+00, -4.68876832e-01, -9.13966959e-01,\n",
              "       -1.91952428e+00, -2.62049046e-01,  9.82167210e-01, -2.49379031e-01,\n",
              "        1.91662462e-01,  1.42748723e-01, -1.46611356e+00,  1.61728274e+00,\n",
              "        3.16629844e-02, -6.25720791e-01, -2.28032149e+00, -2.27052713e-01,\n",
              "        9.56593102e-01,  2.86192080e-01,  3.88635196e-02,  1.60035569e+00,\n",
              "        7.71845096e-01,  1.45412578e+00,  1.07121032e-01, -1.14962208e-02,\n",
              "        1.35344298e-02,  1.12358378e-01, -2.65178141e-02, -1.46049027e+00,\n",
              "       -2.31227449e+00,  8.96864496e-02,  8.68178098e-01,  1.52929509e-01,\n",
              "        5.51861345e-01,  2.07313973e-01,  7.91194225e-01,  1.63228283e+00,\n",
              "       -1.31397846e+00,  8.16271380e-01, -7.66562057e-01,  8.16391168e-01,\n",
              "        2.95557914e+00,  5.61574049e-01, -1.13139039e+00, -6.81691187e-01,\n",
              "        3.93704485e-01,  8.14001282e-01, -6.00375069e-01,  2.44124497e+00,\n",
              "       -3.95069920e-01,  8.18283315e-01, -4.71103615e-01, -3.79951676e-01,\n",
              "        1.23830686e+00, -7.86860439e-01,  7.03618337e-01, -1.96100050e-01,\n",
              "        3.63625350e-01, -9.38048895e-02, -3.93414288e-01, -1.41995337e+00,\n",
              "       -1.65899298e+00, -5.31658907e-01, -3.85915051e-01,  1.10713760e+00,\n",
              "       -5.32269483e-01, -1.08530293e+00, -7.27726466e-02,  7.04442532e-01,\n",
              "       -1.87248753e-01, -4.83537580e-01,  1.72625797e+00,  5.81985453e-01,\n",
              "       -6.38557304e-01, -2.11894626e-01, -1.31028825e+00,  1.14692154e+00,\n",
              "        6.27046834e-01,  5.75493194e-01,  1.19933201e+00,  3.19794082e-02,\n",
              "        1.79458191e+00,  2.76435470e-01, -8.65428821e-02,  3.26139926e-01,\n",
              "        1.01164768e+00,  1.64093329e-01,  2.47469633e+00, -8.06535796e-01,\n",
              "        8.44229587e-01, -2.53659357e-03, -2.15238889e-01, -1.26421425e+00,\n",
              "        1.26123420e+00,  8.40927129e-01, -9.37571151e-01, -7.68791417e-01,\n",
              "        9.15323111e-01, -1.26887536e+00, -1.06450649e-01, -1.97962757e+00,\n",
              "       -1.04762032e-01,  6.93009379e-01, -8.98163807e-01,  8.47132234e-01,\n",
              "       -1.14180388e+00, -8.93282179e-01,  2.10338993e-01,  4.70947799e-02,\n",
              "        9.23513907e-01, -1.34678394e+00,  6.87395960e-01,  1.04621433e-01,\n",
              "        1.03377498e+00, -1.62191773e+00, -1.20312589e-01,  3.04916436e-02,\n",
              "        1.22861766e+00,  1.35142584e+00, -5.56848641e-01, -2.02901559e-01,\n",
              "        2.65177650e-01, -5.32593734e-01, -2.09317854e-01,  5.50286600e-01,\n",
              "       -5.87494645e-01,  2.09647029e+00, -3.01267766e+00,  2.62613989e-02,\n",
              "        1.03181694e+00, -1.29477728e+00,  9.19791113e-02,  4.05868351e-01,\n",
              "        2.79004332e-01, -3.08578334e-01,  1.35412121e+00,  3.94742179e-01,\n",
              "        2.91715872e-01, -2.80358969e-01,  6.81472835e-01, -1.31476414e+00,\n",
              "        1.15723972e+00, -1.38269712e+00,  1.98201850e-01,  1.37437416e+00,\n",
              "       -1.05690411e+00, -5.22748388e-01, -1.00616663e-01,  8.15334933e-01,\n",
              "       -6.03856565e-01, -4.92082296e-01, -7.58443945e-01, -1.42180974e+00,\n",
              "        2.82435954e-01,  1.25482558e-01, -3.94141913e-01, -4.18562172e-01,\n",
              "        1.48459277e+00, -1.20859494e+00,  3.18744257e+00,  1.36496877e-01,\n",
              "        4.23601238e-01,  1.78004030e+00,  1.84136403e+00,  3.52650929e-01,\n",
              "        5.49196998e-01, -6.99412899e-01, -1.82637574e+00, -1.40157746e+00,\n",
              "        8.20417053e-01, -6.00918695e-01, -9.09118138e-01,  5.84344924e-01,\n",
              "       -5.66692197e-01,  7.39125649e-01, -7.31087348e-01,  2.49157473e-01,\n",
              "        1.18895678e+00, -1.46496987e-01,  1.93609019e-01,  1.04354110e+00,\n",
              "        7.83339528e-01, -1.17244005e+00,  2.57033179e-02, -2.03955639e-01,\n",
              "       -1.74946832e+00,  1.06764246e+00,  5.32907221e-01, -3.42990988e-01,\n",
              "       -2.06408228e+00, -1.41488870e+00, -9.42055104e-01, -2.16676354e+00,\n",
              "       -8.90400814e-01,  1.49557913e+00, -4.10577113e-01,  5.58593868e-02,\n",
              "       -7.16432194e-01,  3.19452354e-01, -3.35630310e-01, -1.56537096e+00,\n",
              "       -1.42146098e+00,  1.23682931e-01,  1.99272521e+00,  2.33674204e+00,\n",
              "        3.29949629e-01, -4.25877370e-01,  2.11153177e+00, -2.01960538e-01,\n",
              "       -4.80529099e-01,  1.82936339e+00, -1.75577859e+00,  9.54853521e-01,\n",
              "       -1.32769167e+00,  1.75081492e-01,  1.88326805e+00,  1.15680988e+00,\n",
              "       -2.00672485e+00, -2.18603451e-01,  1.62517400e+00, -9.02708755e-01,\n",
              "       -5.04066061e-01,  4.60191885e-01,  3.73571695e-01, -4.24808548e-02,\n",
              "        2.33669569e-01,  3.17447822e-01,  6.44610288e-01, -2.79219957e-01,\n",
              "       -1.29904133e+00, -7.53035868e-02,  1.06973949e+00, -4.34936831e-01,\n",
              "       -1.24994310e+00,  1.42862716e-01,  9.07212412e-01, -1.00627493e-03,\n",
              "       -5.41844165e-01, -1.06076988e+00,  3.23035187e-01, -6.59031732e-01,\n",
              "        1.31573630e+00, -9.67066258e-01,  3.63233594e-01,  5.16596891e-01,\n",
              "       -2.42944080e-01, -6.02492930e-01, -5.55654282e-01,  1.15142213e+00,\n",
              "        1.62823039e+00, -1.17564606e+00, -3.33518160e-01,  1.43682925e-01,\n",
              "        8.98450196e-01,  8.54033660e-02,  2.47913201e+00, -4.97515916e-01,\n",
              "        2.21178208e-01, -6.15327416e-01,  8.28832864e-01,  1.56124885e+00,\n",
              "        2.90998486e-02, -2.34029769e-01,  1.48609496e-01,  2.42835765e-01,\n",
              "       -1.15650391e+00,  1.27885862e+00, -1.10091834e+00, -5.53325431e-01,\n",
              "       -4.94227835e-02,  5.16954955e-01,  5.09078103e-01,  3.51440985e-01,\n",
              "        5.13092004e-02,  3.29428558e-01,  2.90574933e-02, -2.90679394e-01,\n",
              "        3.02411116e-01, -1.36296699e+00,  1.92863047e-02, -1.76932501e+00,\n",
              "        6.21603375e-01,  6.14413066e-01, -3.77433428e-01,  9.93995284e-01,\n",
              "        1.34790701e-01, -1.74608072e-01,  5.81643421e-01, -3.97609205e-01,\n",
              "        9.90076385e-01,  1.09405316e-01,  2.86496722e-01, -2.54109839e-01,\n",
              "        1.10767970e+00, -2.18460757e+00, -3.82948316e-01,  7.96522243e-01,\n",
              "        7.92614133e-01,  1.02732621e+00, -8.82748387e-01,  1.27339565e+00,\n",
              "        2.02462836e+00, -5.40817099e-01, -7.76476255e-01, -3.70435210e-02,\n",
              "       -4.32976276e-01,  1.34207217e+00,  6.28913570e-01, -4.79542977e-01,\n",
              "       -1.65098703e+00,  8.03016700e-01, -4.55355480e-01,  1.27216151e+00,\n",
              "       -1.10719155e+00,  7.13939114e-01, -7.60097718e-01, -1.37522072e+00,\n",
              "       -6.08107705e-01, -5.13657088e-01, -5.19845482e-01, -2.80816662e-01,\n",
              "       -1.65267314e+00,  1.34533145e+00,  1.62195839e-01, -6.54331223e-01,\n",
              "       -6.08291474e-01, -1.65951426e-01,  1.07005071e+00,  5.19163384e-01,\n",
              "       -7.73164737e-02,  1.46712812e+00,  1.50981904e+00, -3.98180452e-01,\n",
              "       -5.94072539e-01,  7.92456294e-01, -1.59360640e-02,  5.71754139e-01,\n",
              "       -1.59526533e-01,  5.42964126e-01, -1.04612256e+00, -9.03533595e-01,\n",
              "       -8.59037992e-02, -2.15273626e-01,  7.33733635e-01, -4.58135161e-01,\n",
              "       -3.88339895e-03,  1.98895825e+00, -1.44150778e-01, -9.43942071e-01,\n",
              "       -3.18971099e-01,  6.37870478e-01, -1.08538032e+00,  6.98239497e-02,\n",
              "        2.10033658e-01, -7.43040034e-01,  6.64807787e-01, -1.09759262e+00,\n",
              "       -2.39889720e-01, -9.37749181e-01, -2.44033990e-01, -2.82769254e+00,\n",
              "        1.30757823e+00, -2.12108089e-01, -3.19232253e-02,  2.36098985e-02,\n",
              "       -8.72460721e-01, -1.42795596e-01,  8.20489013e-01, -7.64586028e-02,\n",
              "       -1.80920727e+00, -9.80509951e-01, -4.38470911e-01,  8.51161577e-01,\n",
              "       -3.22949154e-01, -2.88189273e-01, -7.40356131e-01, -3.66817357e-01,\n",
              "       -8.90574187e-01,  1.65895457e+00,  1.24654878e+00, -6.15741583e-01,\n",
              "       -8.40486259e-01, -5.00533199e-02, -3.69848196e-01, -1.89902009e+00,\n",
              "       -4.78067097e-01, -1.40788131e+00,  1.47558295e+00,  1.28920453e+00,\n",
              "       -2.38228735e+00, -2.92800859e-01, -1.30769178e+00, -6.51381544e-01,\n",
              "       -7.27025010e-01,  2.07791042e+00,  1.34492580e+00, -3.55479318e-01,\n",
              "       -5.20058528e-01,  1.71515903e+00, -1.30597945e+00,  3.79842727e-01,\n",
              "       -6.67790553e-01, -4.30934726e-01, -1.00042690e-01,  3.05615722e-01,\n",
              "       -1.18092402e+00, -1.83008681e+00,  1.06456756e+00, -2.71802724e-01,\n",
              "       -1.64061247e-01, -1.59702193e+00, -2.27987559e-01,  1.28585134e+00,\n",
              "        2.24904288e-01,  1.22059212e+00,  1.24269565e+00,  1.91003189e+00,\n",
              "       -1.31187576e+00, -8.04048968e-01,  1.59608735e-02,  2.35408909e-01,\n",
              "        1.38571870e+00, -6.74909857e-01,  2.78653329e-02, -2.20950421e+00,\n",
              "        2.37641459e-01, -1.24836459e-01,  1.48327292e+00,  1.03010627e+00,\n",
              "        1.26354710e+00, -1.17725527e+00, -7.26189515e-01,  9.67759621e-01,\n",
              "        1.21065372e+00,  1.25061233e+00,  7.82182025e-01, -2.48513176e+00,\n",
              "       -4.17124259e-01,  1.40997840e+00, -2.65166596e-01, -5.55974260e-01,\n",
              "        3.17055200e-01, -9.03660055e-01,  1.48993427e+00, -6.95936182e-01,\n",
              "        2.25515845e-01, -4.82484472e-01,  1.17612437e-01,  3.94955174e-01,\n",
              "        3.18510990e-02,  8.49612241e-01,  5.12337068e-01,  6.64955610e-01,\n",
              "        1.06057595e+00,  1.75368012e-02,  1.24609380e+00,  8.06732652e-01,\n",
              "       -9.80078028e-01,  2.24088719e+00, -2.35271320e-02,  8.43152139e-01,\n",
              "        6.63813246e-01, -8.75269326e-01,  7.80550202e-01, -1.20533446e+00,\n",
              "       -4.55889969e-01,  1.61745251e+00,  1.76320327e+00, -2.21333742e-03,\n",
              "       -3.01131359e-01, -1.60672323e+00, -2.29428164e-01,  7.31484392e-01,\n",
              "        7.83333253e-01, -1.44992296e+00,  8.71666525e-01,  4.57336507e-01,\n",
              "       -8.76796328e-01, -1.39543324e+00,  1.28581235e+00,  3.01219179e-01,\n",
              "        9.97429545e-01,  7.79310931e-01, -7.73582043e-01,  3.85494773e-01,\n",
              "       -2.21529988e-01, -4.40371770e-01, -1.11900806e+00, -2.53591460e-01,\n",
              "       -8.12615826e-01, -1.44559903e-01,  6.51107042e-01, -1.31607128e+00,\n",
              "       -6.03259799e-01,  2.90118807e+00,  1.50482603e+00, -1.31901102e-01,\n",
              "        2.74654979e-01,  1.06627072e+00, -3.96492354e-01, -1.62829396e+00,\n",
              "       -1.78744164e-01,  1.74834676e+00,  1.17607118e+00, -1.19050257e+00,\n",
              "        1.13670746e+00, -1.58663570e-01,  1.35062330e+00, -8.79053537e-01,\n",
              "        2.15696025e-02, -1.31449724e+00, -1.05970060e+00, -5.21671120e-01,\n",
              "       -1.50273933e-01, -3.02229966e-01,  1.11494782e+00, -5.44524663e-01,\n",
              "        1.63801135e+00, -8.30164409e-01, -1.07936519e-01, -9.97998684e-01,\n",
              "        3.33541778e-01,  5.20795002e-01,  7.48227859e-01, -7.60847737e-01,\n",
              "       -9.25792084e-03, -2.39622062e-01, -9.03430099e-01, -8.48527750e-01,\n",
              "        2.57146472e-01,  5.76991426e-01, -3.43086334e-02,  2.34436650e-01,\n",
              "       -7.32223050e-01, -2.59484064e+00, -9.74257441e-01, -1.72419675e+00,\n",
              "        4.94965886e-02,  1.21218289e+00,  2.65079869e-01,  2.01519016e-02,\n",
              "       -1.40213329e+00, -1.02320554e+00,  1.81827553e-01, -1.08099932e+00,\n",
              "       -3.84204185e-01,  1.47678471e+00,  1.15544889e+00, -3.85561909e-01,\n",
              "        1.62232936e+00, -1.01433320e+00,  1.24200926e-01,  1.33412161e+00,\n",
              "        6.35088449e-01,  2.91233402e-01,  6.53820808e-01, -5.36764006e-01,\n",
              "       -3.89781709e-01,  1.40966845e-03, -1.86881250e-01, -1.30965424e+00,\n",
              "       -1.59588220e+00, -1.34957687e-01, -5.90611923e-01, -3.81093165e-02,\n",
              "        6.39251547e-01, -7.93113883e-01, -1.24341357e+00, -4.60193775e-01,\n",
              "       -6.66272070e-01,  1.91977609e-01,  9.04239598e-02,  5.68913391e-01,\n",
              "       -5.45856071e-01,  7.64312138e-01, -1.36688979e+00,  3.54683809e-01,\n",
              "        8.44520100e-01,  8.86067531e-01, -6.86840992e-01, -1.63594747e-02,\n",
              "       -6.92842995e-01, -1.70697687e+00, -6.72802668e-01,  3.07901683e-01,\n",
              "       -2.12015360e+00,  2.10580635e-01, -6.93256679e-01, -1.98608057e+00,\n",
              "        1.37629665e+00, -1.04077429e+00, -2.09467803e-01, -1.59786895e-01,\n",
              "       -2.58451757e+00,  1.15696013e+00, -2.66165649e-01,  6.93803287e-02,\n",
              "       -6.01376836e-01,  7.47528343e-01, -5.93769997e-01, -5.91586168e-01,\n",
              "        1.39929942e-01, -1.21956469e+00, -1.09347846e-01,  1.04609872e+00,\n",
              "        1.39374812e+00,  7.72303250e-01, -6.72316689e-01,  1.33710433e-01,\n",
              "       -5.65168496e-01, -1.55430336e+00, -1.75500833e+00,  1.30752363e+00,\n",
              "        9.46042380e-01, -6.15969209e-01, -4.33255076e-01, -2.98824021e-01,\n",
              "        2.68050764e-01, -1.34025341e+00, -8.53821611e-01, -8.13637103e-01,\n",
              "        7.63666561e-01,  4.87971316e-01,  1.74236257e+00,  2.33882148e-01,\n",
              "        1.22015214e+00, -7.64786949e-01, -1.18630877e+00,  1.63867168e+00,\n",
              "        1.72492537e-01, -5.90367796e-01,  1.03475740e+00,  2.70982424e-01,\n",
              "        4.60772348e-01, -1.93199936e+00,  1.16442924e-01, -8.21584713e-01,\n",
              "       -1.84562388e-01, -7.44659069e-01, -1.30598741e+00, -1.89102753e-01,\n",
              "       -6.69826493e-01, -1.42837895e-01,  5.32645751e-01,  3.18517035e-01,\n",
              "       -1.83133717e+00,  2.68162317e-01, -1.37713870e+00, -1.83792090e+00,\n",
              "       -2.73896402e-01,  1.28222807e+00,  2.75964678e-01, -4.06130368e-01])"
            ]
          },
          "metadata": {},
          "execution_count": 24
        }
      ]
    },
    {
      "cell_type": "markdown",
      "source": [
        "Question 19: Compare two datasets using their standard deviations."
      ],
      "metadata": {
        "id": "qfFnWW2S9WaQ"
      }
    },
    {
      "cell_type": "code",
      "source": [
        "data1 = np.random.normal(0, 1, 1000)\n",
        "data2 = np.random.normal(0, 2, 1000)\n",
        "\n",
        "std_dev_data1 = np.std(data1)\n",
        "std_dev_data2 = np.std(data2)\n",
        "\n",
        "std_dev_data1, std_dev_data2\n",
        ""
      ],
      "metadata": {
        "colab": {
          "base_uri": "https://localhost:8080/"
        },
        "id": "fep8Ihln9MTD",
        "outputId": "c0fd8490-2159-401d-a2d1-33c5c5358f8c"
      },
      "execution_count": 25,
      "outputs": [
        {
          "output_type": "execute_result",
          "data": {
            "text/plain": [
              "(np.float64(0.967001355760214), np.float64(2.028518883538256))"
            ]
          },
          "metadata": {},
          "execution_count": 25
        }
      ]
    },
    {
      "cell_type": "markdown",
      "source": [
        "Question 20: Write a Python program to visualize covariance using a heatmap.\n"
      ],
      "metadata": {
        "id": "0LCnImQK9in5"
      }
    },
    {
      "cell_type": "code",
      "source": [
        "import seaborn as sns\n",
        "\n",
        "cov_matrix = np.cov(data1, data2)\n",
        "sns.heatmap(cov_matrix, annot=True)\n",
        "plt.title('Covariance Heatmap')\n",
        "plt.show()"
      ],
      "metadata": {
        "colab": {
          "base_uri": "https://localhost:8080/",
          "height": 452
        },
        "id": "vYs9qI859MP3",
        "outputId": "45970735-766f-4deb-e040-0d88389e1780"
      },
      "execution_count": 26,
      "outputs": [
        {
          "output_type": "display_data",
          "data": {
            "text/plain": [
              "<Figure size 640x480 with 2 Axes>"
            ],
            "image/png": "[encoded data removed]"
          },
          "metadata": {}
        }
      ]
    },
    {
      "cell_type": "markdown",
      "source": [
        "Question 21: Use seaborn to create a correlation matrix for a dataset."
      ],
      "metadata": {
        "id": "j4bertha9Kn-"
      }
    },
    {
      "cell_type": "code",
      "source": [
        "corr_matrix = np.corrcoef(data1, data2)\n",
        "sns.heatmap(corr_matrix, annot=True)\n",
        "plt.title('Correlation Matrix')\n",
        "plt.show()\n",
        ""
      ],
      "metadata": {
        "colab": {
          "base_uri": "https://localhost:8080/",
          "height": 452
        },
        "id": "95oYBccS9G51",
        "outputId": "a87d87e4-e3e5-43e3-f4ac-300dee7c85a4"
      },
      "execution_count": 27,
      "outputs": [
        {
          "output_type": "display_data",
          "data": {
            "text/plain": [
              "<Figure size 640x480 with 2 Axes>"
            ],
            "image/png": "[encoded data removed]"
          },
          "metadata": {}
        }
      ]
    },
    {
      "cell_type": "markdown",
      "source": [
        "Question 22: Generate a dataset and implement both variance and standard deviation computations."
      ],
      "metadata": {
        "id": "aJUSrCIN9LQo"
      }
    },
    {
      "cell_type": "code",
      "source": [
        "new_data = np.random.normal(0, 1, 1000)\n",
        "variance = np.var(new_data)\n",
        "std_dev = np.std(new_data)\n",
        "\n",
        "variance, std_dev"
      ],
      "metadata": {
        "colab": {
          "base_uri": "https://localhost:8080/"
        },
        "id": "_-BrhTEL9Lx8",
        "outputId": "1ae0b8cc-5f8c-486d-8650-ea590c17dc60"
      },
      "execution_count": 28,
      "outputs": [
        {
          "output_type": "execute_result",
          "data": {
            "text/plain": [
              "(np.float64(0.9946651291392105), np.float64(0.9973289974422735))"
            ]
          },
          "metadata": {},
          "execution_count": 28
        }
      ]
    },
    {
      "cell_type": "markdown",
      "source": [
        "Question 23: Visualize skewness and kurtosis using Python libraries."
      ],
      "metadata": {
        "id": "M58dpig5-Vve"
      }
    },
    {
      "cell_type": "code",
      "source": [
        "fig, ax = plt.subplots(1, 2, figsize=(12, 6))\n",
        "sns.histplot(new_data, kde=True, ax=ax[0])\n",
        "ax[0].set_title('Histogram')\n",
        "ax[1].set_title('Boxplot')\n",
        "sns.boxplot(x=new_data, ax=ax[1])\n",
        "plt.show()"
      ],
      "metadata": {
        "colab": {
          "base_uri": "https://localhost:8080/",
          "height": 545
        },
        "id": "qilEkb6a-R57",
        "outputId": "b09e99b2-f56a-49de-8614-c9d2a69c2b45"
      },
      "execution_count": 29,
      "outputs": [
        {
          "output_type": "display_data",
          "data": {
            "text/plain": [
              "<Figure size 1200x600 with 2 Axes>"
            ],
            "image/png": "[encoded data removed]"
          },
          "metadata": {}
        }
      ]
    },
    {
      "cell_type": "markdown",
      "source": [
        "Question 24: Implement the Pearson and Spearman correlation coefficients"
      ],
      "metadata": {
        "id": "k76TBiXq-u8u"
      }
    },
    {
      "cell_type": "code",
      "source": [
        "pearson_corr = stats.pearsonr(x, y)\n",
        "spearman_corr = stats.spearmanr(x, y)\n",
        "\n",
        "pearson_corr, spearman_corr\n",
        ""
      ],
      "metadata": {
        "colab": {
          "base_uri": "https://localhost:8080/"
        },
        "id": "kDPGDAdG-rtQ",
        "outputId": "b34cd02a-2e3a-4ddd-d0e3-6f5486d56e45"
      },
      "execution_count": 30,
      "outputs": [
        {
          "output_type": "execute_result",
          "data": {
            "text/plain": [
              "(PearsonRResult(statistic=np.float64(0.9999999999999998), pvalue=np.float64(1.3415758552508146e-08)),\n",
              " SignificanceResult(statistic=np.float64(1.0), pvalue=np.float64(0.0)))"
            ]
          },
          "metadata": {},
          "execution_count": 30
        }
      ]
    },
    {
      "cell_type": "code",
      "source": [],
      "metadata": {
        "id": "0UognuGj-4D5"
      },
      "execution_count": null,
      "outputs": []
    }
  ]
}
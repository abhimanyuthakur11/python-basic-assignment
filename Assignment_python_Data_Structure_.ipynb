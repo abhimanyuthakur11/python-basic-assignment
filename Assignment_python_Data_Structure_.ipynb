{
  "nbformat": 4,
  "nbformat_minor": 0,
  "metadata": {
    "colab": {
      "provenance": []
    },
    "kernelspec": {
      "name": "python3",
      "display_name": "Python 3"
    },
    "language_info": {
      "name": "python"
    }
  },
  "cells": [
    {
      "cell_type": "markdown",
      "source": [
        "Assignment :"
      ],
      "metadata": {
        "id": "FnxJpS9knEXa"
      }
    },
    {
      "cell_type": "markdown",
      "source": [
        "Question 1: What are data structure ,and why are they important?\n",
        "- Data structure are specialized formats for storing,organzing and manipulating data efficiently in a computer.\n",
        "\n",
        "They are important because:\n",
        "    > they provide efficient ways to access and modify the data.\n",
        "    > they help organize data in meaningful ways.\n",
        "    > they can significantly impact the speed and efficiency of your code.\n",
        "\n",
        "Question 2: Explain the differnce between mutable and immutable data types with examples?\n",
        "- Mutable data types can be changed after creation:\n",
        "\n",
        "     > lits:my_list = [1,2,3]  -> my_list[0] = 99\n",
        "     (works)\n",
        "     > Dictionaries:my_dict = {\"a\":1} -> my_dict = 2\n",
        "     (works)\n",
        "     > Sets: my_set = {1,2,3}  -> my_set.add(4)\n",
        "     (works)\n",
        "\n",
        "  Immutable data types cannot be changed after creation:\n",
        "\n",
        "     > int x = 5 -> cannot modify the value 5 itself\n",
        "     > floats y = 2.5 -> cannot be changed/ modify  the value 2.5 by\n",
        "       itself\n",
        "     > str (s) = \"hello\" -> cannot be modify individual characters.\n",
        "     > tuples(t) = (3,5,6) -> cannot be modify elements after the\n",
        "       creation\n",
        "\n",
        "Question 3: What are the main difference between list and tuples in python?\n",
        "\n",
        "- Mutability: lists are muatable (can be changed) , tuples are immutable\n",
        "  (cannot be changed)\n",
        "- lists are heteogenous where the tuples are homogenous.\n",
        "- Syntax: list uses the square brackets [] ,tuples uses the parenthese   \n",
        "  ()\n",
        "- Usage: lists uses for collection that need to be modified,tuples for\n",
        "  fixed collection\n",
        "\n",
        "\n",
        "Question 4: Describe how dictionaries store data?\n",
        "- Dictionaries stores data as key-value pairs using a hash table  implementation:\n",
        "\n",
        "   . each key must be unique and immutable (like srings,numbers or tuples)\n",
        "   . values can be mutable and any data type\n",
        "   . dictionaries uses the hash function to compute an index where the\n",
        "     values are stored\n",
        "   .  this provide very fast O(1) lookup time\n",
        "\n",
        "\n",
        "Question 5: Why might you use a set instead of a list in python?\n",
        "- set automatically eliminates the duplicate and ensure that the   \n",
        "  elements are unique.\n",
        "- order of element is not important\n",
        "- you need faster add/remove operations for large collections \\\n",
        "- you need to perform mathematical set operation (union,intersection,\n",
        "  difference)\n",
        "\n",
        "\n",
        "Question 6:What is a string in python ,and how is it different from a list?\n",
        "- A string in a python is an immutable sequence of characters.\n",
        "\n",
        "Differences from list:\n",
        "\n",
        "> strings can only contains characters ,while list can contain any data\n",
        "  type\n",
        "> strings are immutable (cannot be changed), lists are mutable.\n",
        "> strings uses different syntax: \"hello\" vs ['h','e','l','l','o']\n",
        "\n",
        "\n",
        "Question 7: How do tuples ensure data integrity in python?\n",
        "- Tuples ensure data integrity through:\n",
        "\n",
        " > Immutability: Once created ,tuples content cannot be modified\n",
        " > Immutability allows tuples to be used as dictionary keys\n",
        " > They can be used to gurantee that data won't change throughout program\n",
        "   execution.\n",
        " > their immutability makes them more memory efficient and slightly  \n",
        "   faster than lists\n",
        "\n",
        "\n",
        "Question 8: What is hash table,and how does it relate to the dictionaries in python?\n",
        "-  A hash table is a data structure that maps keys to value using a hasdh function\n",
        "\n",
        "      . Dictionaries are implemented using a hash tables.\n",
        "      . The hash function convetrs the keys into an array indices for\n",
        "        storage\n",
        "      . When you access a key, python hashes is to find the  \n",
        "        corresponding value quickly\n",
        "\n",
        "\n",
        "Question 9: Can lists contain different data types in python?\n",
        "- Yes! lists in python can contain different data types\n",
        "\n",
        "    > Numbers (integers,floats)\n",
        "    > Strings\n",
        "    > Boolean\n",
        "    > tuples,dictionaries,sets\n",
        "\n",
        "\n",
        "Question 10: Explain why strings are immutable in python?\n",
        "-  Strings are immutable for several reasons :\n",
        "\n",
        "    > It allows python to optmize memory usage by reusing strings objects\n",
        "    > It allows strings to be used as a dictionary keys\n",
        "    > It simplifies string handling and prevents unexpected side effects\n",
        "    > It ensures security since strings can't be modified unexpectively\n",
        "\n",
        "\n",
        "Question 11. What advantages do dictionaries offer ovewr list for certain tasks?\n",
        "- Semantic clarity with named keys instead of numeric  indices\n",
        "- Can store heterogenous data with named fields\n",
        "- No need to know the position of an itembto retrieve it\n",
        "- Better for representing structured data with named fields\n",
        "\n",
        "Question 12: describe a scenario where using a tuple would be preferable over a list?\n",
        "- Tuples are preferable when:\n",
        "\n",
        "  . Storing data that shouldn't change\n",
        "  . When you want to enforce the immutability for data security\n",
        "  . Using as dictionary keys where list can't be\n",
        "\n",
        "\n",
        "Question 13: How do set handle the duplicate values in python?\n",
        "- Sets automatically Eliminates duplicate:\n",
        "\n",
        "  . When you create a set or add elements to it,duplicates  are silently\n",
        "     ignored\n",
        "  . only one instance of each value is stored\n",
        "  . This happens because sets use hash table internally\n",
        "  . When you convert another collection to a set,duplicates are reoved\n",
        "  . Exaples: {1,2,3,3,2,4} becomes {1,2,3}\n",
        "\n",
        "\n",
        "Question 14: How does the \"in\" keyword work for differently for lists and dictionaries?\n",
        "- The in keyyword work differently because:\n",
        "\n",
        "  > for lists: 'in' searches sequentially througjh all elememnts\n",
        "  > for dictionaries: 'in' checks a key exists using hashing\n",
        "  > for lists 'in' gets slower as the list grows\n",
        "  > for dictionaries 'in' remains fast regardless of size\n",
        "\n",
        "\n",
        "Question 15: Can you modify the element of a tuple?Explain why or why not?\n",
        "- you cannot modify the element of a tuple as tuples are immutable.however:\n",
        "\n",
        "> you cannot add,remove or replace the elements in a tuple\n",
        "> you cannot assign to individual positions: my_tuple[0] = 5 will raise  \n",
        "  an error\n",
        "> if a tuple contains mutable objects (like lists),those objects can be   modified\n",
        "\n",
        "\n",
        "Question 16: What is a nested dictionary, and give an example of its use case?\n",
        "- A nested dictionary is a dictionary where some values are thenselves a\n",
        "  dictionaries\n",
        "\n",
        "  \n",
        "  "
      ],
      "metadata": {
        "id": "Hqms5pSRtyjz"
      }
    },
    {
      "cell_type": "code",
      "execution_count": null,
      "metadata": {
        "id": "1dRQiv1imtyW",
        "colab": {
          "base_uri": "https://localhost:8080/"
        },
        "outputId": "24183c95-3e25-472e-d473-939dc33be5ea"
      },
      "outputs": [
        {
          "output_type": "execute_result",
          "data": {
            "text/plain": [
              "{'abhishek': {'age': 20,\n",
              "  'subject': 'data analytics',\n",
              "  'grades': {'maths': 60, 'programming': 70}},\n",
              " 'abhimanyu': {'age': 23,\n",
              "  'subject': 'data science',\n",
              "  'grades': {'python': 100, 'soft skills': 90}}}"
            ]
          },
          "metadata": {},
          "execution_count": 4
        }
      ],
      "source": [
        "# Example\n",
        "student_data = {\"abhishek\":{\"age\":20,\"subject\":\"data analytics\",\"grades\":{\"maths\":60,\"programming\":70}},\"abhimanyu\":{\"age\":23,\"subject\":\"data science\",\"grades\":{\"python\":100,\"soft skills\":90}}}\n",
        "student_data"
      ]
    },
    {
      "cell_type": "markdown",
      "source": [
        "Question 17: Describe the time complexity of accessing elements in a dictionary?\n",
        "> average case: O(1) - constant time\n",
        "> Worsrt case: O(n) - linear time\n",
        "\n",
        "Question 18: In what situations are lists prefered oveer dictionaries?\n",
        "- Lists are prefered when:\n",
        "\n",
        "  . Order matyters and you need to maintain sequence\n",
        "  . You need to access elements by position (index) rather than by a name\n",
        "  . You need to store duplicate values\n",
        "  . You need to perform operations of all elements frequently\n",
        "\n",
        "\n",
        "Question 19: Why are dictionaries considered unordered,and how does they affect data retival?\n",
        "- traditionally,were considered unordered because:\n",
        "\n",
        "  > the internal hash table implementation didn't guarantee position\n",
        "  > the order could change between python version or implementations\n",
        "  > insertion order wasn't preserved\n",
        "\n",
        " This affects data retrival because:\n",
        "\n",
        " > you should access items by key,not position\n",
        " > If order is critical,consider using OrderedDict\n",
        "\n",
        "\n",
        "Quiestion 20: Explain the difference between a list and a dictionary in terms of data retrival?\n",
        "- Lists vs Dictionaries for data retrival:\n",
        "\n",
        " > Lists: retrive by index using square brackets: my_list[0]\n",
        " > Dictionaries: retrive by key using square brackets:my_dict['key']\n",
        " > List retrival is O(1) if you know thw index,but searching is O(n)\n",
        " > Dictionary retrival is O(1) regardless of size\n",
        " > Lists require knowing the position of data\n",
        " > Dictionary require knowing the key but not the position\n",
        "\n"
      ],
      "metadata": {
        "id": "qDSxLD5ymFk2"
      }
    },
    {
      "cell_type": "markdown",
      "source": [
        "Practical Question:"
      ],
      "metadata": {
        "id": "1Ttd15X7wMYf"
      }
    },
    {
      "cell_type": "markdown",
      "source": [
        "Question 1: Write a code a string with your namne and print it"
      ],
      "metadata": {
        "id": "HTtTw37GwRd6"
      }
    },
    {
      "cell_type": "code",
      "source": [
        "my_name = \"Abhimanyu Singh Pundir\"\n",
        "my_name"
      ],
      "metadata": {
        "colab": {
          "base_uri": "https://localhost:8080/",
          "height": 35
        },
        "id": "5t7Aedofj7Ly",
        "outputId": "5122d55e-b9c6-4c8b-8b75-7f04226ffbd0"
      },
      "execution_count": null,
      "outputs": [
        {
          "output_type": "execute_result",
          "data": {
            "text/plain": [
              "'Abhimanyu Singh Pundir'"
            ],
            "application/vnd.google.colaboratory.intrinsic+json": {
              "type": "string"
            }
          },
          "metadata": {},
          "execution_count": 5
        }
      ]
    },
    {
      "cell_type": "markdown",
      "source": [
        "Question 2: Write a code to find the length of a string \"hello world\""
      ],
      "metadata": {
        "id": "d2-y0bpiw5jY"
      }
    },
    {
      "cell_type": "code",
      "source": [
        "from typing import Counter\n",
        "str = input (\"enter a string:\")\n",
        "Counter = 0\n",
        "for s in str:\n",
        "    Counter = Counter + 1\n",
        "print(\"Length of the input string is:\", Counter)"
      ],
      "metadata": {
        "colab": {
          "base_uri": "https://localhost:8080/"
        },
        "id": "rgHtKYRJwzJ_",
        "outputId": "c840bdc6-2888-4e5c-9e73-6fbaf33a9527"
      },
      "execution_count": null,
      "outputs": [
        {
          "output_type": "stream",
          "name": "stdout",
          "text": [
            "enter a string:hello world\n",
            "Length of the input string is: 11\n"
          ]
        }
      ]
    },
    {
      "cell_type": "markdown",
      "source": [
        "Question 3: Write a code to slice the first 3 characters from the string \"python programming\""
      ],
      "metadata": {
        "id": "B7imEMh30tCp"
      }
    },
    {
      "cell_type": "code",
      "source": [
        "text = \"python programming\"\n",
        "sliced_text = text[:3]\n",
        "print(sliced_text)\n"
      ],
      "metadata": {
        "colab": {
          "base_uri": "https://localhost:8080/"
        },
        "id": "xOg0iT2hxPIC",
        "outputId": "01dcbd86-fc7d-45ab-9955-c3953add5a56"
      },
      "execution_count": null,
      "outputs": [
        {
          "output_type": "stream",
          "name": "stdout",
          "text": [
            "pyt\n"
          ]
        }
      ]
    },
    {
      "cell_type": "markdown",
      "source": [
        "Question 4: Write a code to convert the string \"hello\" to uppercase"
      ],
      "metadata": {
        "id": "bU4bI_0z1Slt"
      }
    },
    {
      "cell_type": "code",
      "source": [
        " text = \"hello\"\n",
        " text.upper()"
      ],
      "metadata": {
        "colab": {
          "base_uri": "https://localhost:8080/",
          "height": 35
        },
        "id": "WRwKkYhI1QzH",
        "outputId": "22ca4d60-1454-40f1-80b2-ccd449cdb64e"
      },
      "execution_count": null,
      "outputs": [
        {
          "output_type": "execute_result",
          "data": {
            "text/plain": [
              "'HELLO'"
            ],
            "application/vnd.google.colaboratory.intrinsic+json": {
              "type": "string"
            }
          },
          "metadata": {},
          "execution_count": 26
        }
      ]
    },
    {
      "cell_type": "markdown",
      "source": [
        "Question 5: write a code to replace the word \"apple\" with \"orange\" in the string \"i like apple\":"
      ],
      "metadata": {
        "id": "939-m61E1v32"
      }
    },
    {
      "cell_type": "code",
      "source": [
        "text = \"i like apple\"\n",
        "new_text = text.replace(\"apple\",\"orange\")\n",
        "print(new_text)"
      ],
      "metadata": {
        "colab": {
          "base_uri": "https://localhost:8080/"
        },
        "id": "cZ8hY0nR1t5d",
        "outputId": "9a049045-dbee-4918-d962-2c3b5317499c"
      },
      "execution_count": null,
      "outputs": [
        {
          "output_type": "stream",
          "name": "stdout",
          "text": [
            "i like orange\n"
          ]
        }
      ]
    },
    {
      "cell_type": "markdown",
      "source": [
        "Question 6:  Write a code to create a list with numbers 1 to 5 and print it"
      ],
      "metadata": {
        "id": "1sUkDx1W2aXH"
      }
    },
    {
      "cell_type": "code",
      "source": [
        "my_list = [1,2,3,4,5]\n",
        "my_list\n",
        "# alternative way to create the list\n",
        "my_list = list(range(1,6))\n",
        "my_list"
      ],
      "metadata": {
        "colab": {
          "base_uri": "https://localhost:8080/"
        },
        "id": "sbYvwaNs2YeK",
        "outputId": "745f3d78-a6a5-4052-ef91-ce53852e247a"
      },
      "execution_count": null,
      "outputs": [
        {
          "output_type": "execute_result",
          "data": {
            "text/plain": [
              "[1, 2, 3, 4, 5]"
            ]
          },
          "metadata": {},
          "execution_count": 30
        }
      ]
    },
    {
      "cell_type": "markdown",
      "source": [
        "Question 7: Write a code to append the number 10 to the list [1,2,3,4]"
      ],
      "metadata": {
        "id": "q-ROUqHo3Zgx"
      }
    },
    {
      "cell_type": "code",
      "source": [
        "list=[1,2,3,4]\n",
        "list.append(10)\n",
        "list"
      ],
      "metadata": {
        "colab": {
          "base_uri": "https://localhost:8080/"
        },
        "id": "Mw6YUPly3BNL",
        "outputId": "f01ba90d-914a-41ee-bf0e-9cccf4792dd1"
      },
      "execution_count": null,
      "outputs": [
        {
          "output_type": "execute_result",
          "data": {
            "text/plain": [
              "[1, 2, 3, 4, 10]"
            ]
          },
          "metadata": {},
          "execution_count": 31
        }
      ]
    },
    {
      "cell_type": "markdown",
      "source": [
        "Question 8: write a code to remove the number 3 from the list[1,2,3,4]"
      ],
      "metadata": {
        "id": "6JuTktZI38ww"
      }
    },
    {
      "cell_type": "code",
      "source": [
        "list = [1,2,3,4]\n",
        "list.remove(3)\n",
        "list"
      ],
      "metadata": {
        "colab": {
          "base_uri": "https://localhost:8080/"
        },
        "id": "Mpogz7Ah37nW",
        "outputId": "bd26f0f7-5035-401f-c465-b080ade17770"
      },
      "execution_count": null,
      "outputs": [
        {
          "output_type": "execute_result",
          "data": {
            "text/plain": [
              "[1, 2, 4]"
            ]
          },
          "metadata": {},
          "execution_count": 32
        }
      ]
    },
    {
      "cell_type": "markdown",
      "source": [
        "Question 9: write a code to access the second element in the list ['a','b','c','d']"
      ],
      "metadata": {
        "id": "ks89eG5p5PcP"
      }
    },
    {
      "cell_type": "code",
      "source": [
        "letter = ['a','b','c','d']\n",
        "second_element = letter[1]\n",
        "second_element"
      ],
      "metadata": {
        "colab": {
          "base_uri": "https://localhost:8080/",
          "height": 35
        },
        "id": "fR99dCza4TwT",
        "outputId": "244328cc-5e19-427d-bf8c-a9d766d26f33"
      },
      "execution_count": null,
      "outputs": [
        {
          "output_type": "execute_result",
          "data": {
            "text/plain": [
              "'b'"
            ],
            "application/vnd.google.colaboratory.intrinsic+json": {
              "type": "string"
            }
          },
          "metadata": {},
          "execution_count": 33
        }
      ]
    },
    {
      "cell_type": "markdown",
      "source": [
        "Question 10: write a code to reverse the list [10,20,30,40,50]"
      ],
      "metadata": {
        "id": "qmNa22DI6GHL"
      }
    },
    {
      "cell_type": "code",
      "source": [
        "list = [10,20,30,40,50]\n",
        "list.reverse()\n",
        "list"
      ],
      "metadata": {
        "colab": {
          "base_uri": "https://localhost:8080/"
        },
        "id": "6-hlnZpY6EvD",
        "outputId": "31e4dbe1-7372-4bfd-bbb0-76f06a91bfda"
      },
      "execution_count": null,
      "outputs": [
        {
          "output_type": "execute_result",
          "data": {
            "text/plain": [
              "[50, 40, 30, 20, 10]"
            ]
          },
          "metadata": {},
          "execution_count": 34
        }
      ]
    },
    {
      "cell_type": "markdown",
      "source": [
        "Question 11: write a code to create a tuple with the elements 100,200,300 and print it"
      ],
      "metadata": {
        "id": "nwEq52kJ6WRp"
      }
    },
    {
      "cell_type": "code",
      "source": [
        "my_tuple = (100,200,300)\n",
        "my_tuple"
      ],
      "metadata": {
        "colab": {
          "base_uri": "https://localhost:8080/"
        },
        "id": "qD4RwF446wk3",
        "outputId": "1918773a-aa4f-4bea-87e0-8132fd91659a"
      },
      "execution_count": null,
      "outputs": [
        {
          "output_type": "execute_result",
          "data": {
            "text/plain": [
              "(100, 200, 300)"
            ]
          },
          "metadata": {},
          "execution_count": 35
        }
      ]
    },
    {
      "cell_type": "markdown",
      "source": [
        "Question 12: write a code to access the second-to-last element of the tuple ('red','green','blue','yellow')"
      ],
      "metadata": {
        "id": "QcVmG7YH6xTk"
      }
    },
    {
      "cell_type": "code",
      "source": [
        "my_tuple = ('red','green','blue','yellow')\n",
        "second_to_last_element = my_tuple[2]\n",
        "second_to_last_element"
      ],
      "metadata": {
        "colab": {
          "base_uri": "https://localhost:8080/",
          "height": 35
        },
        "id": "50gu2vUS7LNK",
        "outputId": "b9297177-94bc-40b6-80ac-7e545c21277b"
      },
      "execution_count": null,
      "outputs": [
        {
          "output_type": "execute_result",
          "data": {
            "text/plain": [
              "'blue'"
            ],
            "application/vnd.google.colaboratory.intrinsic+json": {
              "type": "string"
            }
          },
          "metadata": {},
          "execution_count": 38
        }
      ]
    },
    {
      "cell_type": "markdown",
      "source": [
        "Question 13: write a code to find the minimum number in the tuple (10,20,5,15)"
      ],
      "metadata": {
        "id": "_fJleX8Q7LwA"
      }
    },
    {
      "cell_type": "code",
      "source": [
        "my_tuple = (10,20,5,15)\n",
        "minimum_number = min(my_tuple)\n",
        "minimum_number"
      ],
      "metadata": {
        "colab": {
          "base_uri": "https://localhost:8080/"
        },
        "id": "K-m4UtL17dnf",
        "outputId": "a49ed077-6e92-47da-f128-598996b1d4ed"
      },
      "execution_count": null,
      "outputs": [
        {
          "output_type": "execute_result",
          "data": {
            "text/plain": [
              "5"
            ]
          },
          "metadata": {},
          "execution_count": 39
        }
      ]
    },
    {
      "cell_type": "markdown",
      "source": [
        "Question 14: write a code to find the index of the element \"cat\" in the tuple ('dog','cat','rabbit')"
      ],
      "metadata": {
        "id": "noAuesK37exL"
      }
    },
    {
      "cell_type": "code",
      "source": [
        "my_tuple = ('dog','cat','rabbit')\n",
        "index = my_tuple.index('cat')\n",
        "index"
      ],
      "metadata": {
        "colab": {
          "base_uri": "https://localhost:8080/"
        },
        "id": "6vaRmZZm7xSi",
        "outputId": "09f28817-a91b-420c-dfe4-9c5ad31dad55"
      },
      "execution_count": null,
      "outputs": [
        {
          "output_type": "execute_result",
          "data": {
            "text/plain": [
              "1"
            ]
          },
          "metadata": {},
          "execution_count": 40
        }
      ]
    },
    {
      "cell_type": "markdown",
      "source": [
        "Question 15: write a code to create a tuple containing three different fruits and check if \"kiwi\" is in it"
      ],
      "metadata": {
        "id": "xmfaWN7G7x3W"
      }
    },
    {
      "cell_type": "code",
      "source": [
        "fruits = (\"apple\",\"banana\",\"orange\")\n",
        "if \"kiwi\" in fruits:\n",
        "    print(\"kiwi is in the tuple\")\n",
        "else:\n",
        "    print(\"kiwi is not in the tuple\")"
      ],
      "metadata": {
        "colab": {
          "base_uri": "https://localhost:8080/"
        },
        "id": "jJUUUoQR83Z5",
        "outputId": "8b7abb75-bb4f-4364-857c-5e5ffff1a38f"
      },
      "execution_count": null,
      "outputs": [
        {
          "output_type": "stream",
          "name": "stdout",
          "text": [
            "kiwi is not in the tuple\n"
          ]
        }
      ]
    },
    {
      "cell_type": "markdown",
      "source": [
        "Question 16: write a code to create a set with the elements 'a','b','c', and print it"
      ],
      "metadata": {
        "id": "6uJMUC8k9Bip"
      }
    },
    {
      "cell_type": "code",
      "source": [
        "my_set = {'a','b','c'}\n",
        "my_set"
      ],
      "metadata": {
        "colab": {
          "base_uri": "https://localhost:8080/"
        },
        "id": "8AqjLWXB9AP6",
        "outputId": "a135fb37-2085-47b2-f66e-2e8a4d53f596"
      },
      "execution_count": null,
      "outputs": [
        {
          "output_type": "execute_result",
          "data": {
            "text/plain": [
              "{'a', 'b', 'c'}"
            ]
          },
          "metadata": {},
          "execution_count": 42
        }
      ]
    },
    {
      "cell_type": "markdown",
      "source": [
        "Question 17: Write a code to clear all elements from the set {1,2,3,4,5}"
      ],
      "metadata": {
        "id": "BQk9FW6D9TC_"
      }
    },
    {
      "cell_type": "code",
      "source": [
        "my_set = {1,2,3,4,5}\n",
        "my_set.clear()\n",
        "my_set"
      ],
      "metadata": {
        "colab": {
          "base_uri": "https://localhost:8080/"
        },
        "id": "n4Qpr4QM9uoT",
        "outputId": "b022b8ad-7c6f-4e9e-bdfc-b282a6afad2e"
      },
      "execution_count": null,
      "outputs": [
        {
          "output_type": "execute_result",
          "data": {
            "text/plain": [
              "set()"
            ]
          },
          "metadata": {},
          "execution_count": 43
        }
      ]
    },
    {
      "cell_type": "markdown",
      "source": [
        "Question 18: write a code to remove 4 from the set {1,2,3,4}"
      ],
      "metadata": {
        "id": "7kF9kFiV9zRX"
      }
    },
    {
      "cell_type": "code",
      "source": [
        "my_set = {1,2,3,4}\n",
        "my_set.remove(4)\n",
        "my_set"
      ],
      "metadata": {
        "colab": {
          "base_uri": "https://localhost:8080/"
        },
        "id": "yut806fw9yJk",
        "outputId": "6e61c677-4597-4909-b5fd-f038fceabbd2"
      },
      "execution_count": null,
      "outputs": [
        {
          "output_type": "execute_result",
          "data": {
            "text/plain": [
              "{1, 2, 3}"
            ]
          },
          "metadata": {},
          "execution_count": 44
        }
      ]
    },
    {
      "cell_type": "markdown",
      "source": [
        "Question 19: write a code to find the union of two sets {1,2,3} and {3,4,5}"
      ],
      "metadata": {
        "id": "VHMU-zG7-CqT"
      }
    },
    {
      "cell_type": "code",
      "source": [
        "my_set1 = {1,2,3}\n",
        "my_set2 = {3,4,5}\n",
        "union_set = my_set1.union(my_set2)\n",
        "union_set"
      ],
      "metadata": {
        "colab": {
          "base_uri": "https://localhost:8080/"
        },
        "id": "QPd_7PZg-Bgl",
        "outputId": "7cb83c90-9602-4672-d73e-1ff153927dba"
      },
      "execution_count": null,
      "outputs": [
        {
          "output_type": "execute_result",
          "data": {
            "text/plain": [
              "{1, 2, 3, 4, 5}"
            ]
          },
          "metadata": {},
          "execution_count": 45
        }
      ]
    },
    {
      "cell_type": "markdown",
      "source": [
        "Question 20: write a code to find the intersection of two sets {1,2,3} and {2,3,4}"
      ],
      "metadata": {
        "id": "5CLiUWO8-ahx"
      }
    },
    {
      "cell_type": "code",
      "source": [
        "my_set1 = {1,2,3}\n",
        "my_set2 = {2,3,4}\n",
        "intersection_set = my_set1.intersection(my_set2)\n",
        "intersection_set"
      ],
      "metadata": {
        "colab": {
          "base_uri": "https://localhost:8080/"
        },
        "id": "_o-jZL0d-Y0L",
        "outputId": "3198c0e1-bb9e-4a2a-8e75-f3f1aa50573d"
      },
      "execution_count": null,
      "outputs": [
        {
          "output_type": "execute_result",
          "data": {
            "text/plain": [
              "{2, 3}"
            ]
          },
          "metadata": {},
          "execution_count": 46
        }
      ]
    },
    {
      "cell_type": "markdown",
      "source": [
        "Question 21: write a code to create a dictionary with the keys \"name\",\"age\",\"city\" and print it  "
      ],
      "metadata": {
        "id": "ggya34cL-vDc"
      }
    },
    {
      "cell_type": "code",
      "source": [
        "my_dict = {\"name\":\"Abhimanyu\",\"age\":23,\"city\":\"Lucknow\"}\n",
        "my_dict"
      ],
      "metadata": {
        "colab": {
          "base_uri": "https://localhost:8080/"
        },
        "id": "Zbb8a7ar-t3w",
        "outputId": "da77313c-1914-43da-f0fe-180de4ce20c2"
      },
      "execution_count": null,
      "outputs": [
        {
          "output_type": "execute_result",
          "data": {
            "text/plain": [
              "{'name': 'Abhimanyu', 'age': 23, 'city': 'Lucknow'}"
            ]
          },
          "metadata": {},
          "execution_count": 47
        }
      ]
    },
    {
      "cell_type": "markdown",
      "source": [
        "Question 22: write a code to add a new key-value pair \"country\":\"USA\" to the dictionary {\"name\":\"john\",\"age\":25}"
      ],
      "metadata": {
        "id": "UwwmHyu1_QRJ"
      }
    },
    {
      "cell_type": "code",
      "source": [
        "dict = {\"name\":\"john\",\"age\":25}\n",
        "dict[\"country\"] = \"USA\"\n",
        "dict"
      ],
      "metadata": {
        "id": "ktKNezwa_OeD",
        "colab": {
          "base_uri": "https://localhost:8080/"
        },
        "outputId": "9a0f7ece-5250-4425-edd1-c514d66e0f75"
      },
      "execution_count": null,
      "outputs": [
        {
          "output_type": "execute_result",
          "data": {
            "text/plain": [
              "{'name': 'john', 'age': 25, 'country': 'USA'}"
            ]
          },
          "metadata": {},
          "execution_count": 1
        }
      ]
    },
    {
      "cell_type": "markdown",
      "source": [
        "-Question 23: write a code to access the value associated with the key \"name\" in the dictionary {'name':'alice','age':30}"
      ],
      "metadata": {
        "id": "_Mk9NQ5jO1H9"
      }
    },
    {
      "cell_type": "code",
      "source": [
        "my_dict = {'name':'alice','age':30}\n",
        "value = my_dict['name']\n",
        "value"
      ],
      "metadata": {
        "colab": {
          "base_uri": "https://localhost:8080/",
          "height": 35
        },
        "id": "6otAWq5oN9Sr",
        "outputId": "cf287c65-b1a2-428f-df25-bd2f8e01b711"
      },
      "execution_count": null,
      "outputs": [
        {
          "output_type": "execute_result",
          "data": {
            "text/plain": [
              "'alice'"
            ],
            "application/vnd.google.colaboratory.intrinsic+json": {
              "type": "string"
            }
          },
          "metadata": {},
          "execution_count": 2
        }
      ]
    },
    {
      "cell_type": "markdown",
      "source": [
        "Question 24: write a code to remove the key \"age\" from the dictionary {'name':'bob','age':22,'city':'newyork'}"
      ],
      "metadata": {
        "id": "E5-VA_GDO0Cv"
      }
    },
    {
      "cell_type": "code",
      "source": [
        "my_dict = {'name':'bob','age':22,'city':'newyork'}\n",
        "del my_dict['age']\n",
        "my_dict"
      ],
      "metadata": {
        "colab": {
          "base_uri": "https://localhost:8080/"
        },
        "id": "jTPrbXnJQQdS",
        "outputId": "6baf7b65-042f-45ed-c994-48f81feb36a2"
      },
      "execution_count": null,
      "outputs": [
        {
          "output_type": "execute_result",
          "data": {
            "text/plain": [
              "{'name': 'bob', 'city': 'newyork'}"
            ]
          },
          "metadata": {},
          "execution_count": 3
        }
      ]
    },
    {
      "cell_type": "markdown",
      "source": [
        "Question25: write a code to check if the key \"city\" existsin the dictionary {'name':'alice','city':'paris'}"
      ],
      "metadata": {
        "id": "sWlrjNBARRLe"
      }
    },
    {
      "cell_type": "code",
      "source": [
        "my_dict = {'name':'alice','city':'paris'}\n",
        "if 'city' in my_dict:\n",
        "    print(\"city exists in the dictionary\")\n",
        "else:\n",
        "    print(\"city does not exist in the dictionary\")\n"
      ],
      "metadata": {
        "colab": {
          "base_uri": "https://localhost:8080/"
        },
        "id": "xMHlGjbzQWvu",
        "outputId": "4a90540b-3c7a-48a8-8a3b-05f8f1844c11"
      },
      "execution_count": null,
      "outputs": [
        {
          "output_type": "stream",
          "name": "stdout",
          "text": [
            "city exists in the dictionary\n"
          ]
        }
      ]
    },
    {
      "cell_type": "markdown",
      "source": [
        "Question 26: write a code to create a list , a tuple and a dictionary and priont them all"
      ],
      "metadata": {
        "id": "3B6CvPPVRt9p"
      }
    },
    {
      "cell_type": "code",
      "source": [
        "my_list= [1,2,3]\n",
        "my_tuple = ('a','b','c')\n",
        "my_dict = {'name':'prashant','age':23}\n",
        "print(my_list)\n",
        "print(my_tuple)\n",
        "print(my_dict)"
      ],
      "metadata": {
        "colab": {
          "base_uri": "https://localhost:8080/"
        },
        "id": "EXD9PXuJRqIF",
        "outputId": "471ab2a1-df33-4f52-e25e-34fe937837b4"
      },
      "execution_count": null,
      "outputs": [
        {
          "output_type": "stream",
          "name": "stdout",
          "text": [
            "[1, 2, 3]\n",
            "('a', 'b', 'c')\n",
            "{'name': 'prashant', 'age': 23}\n"
          ]
        }
      ]
    },
    {
      "cell_type": "markdown",
      "source": [
        "Question 27: write a code to create a list of 5 random number between 1 and 100,sort it in ascending order,and print the result"
      ],
      "metadata": {
        "id": "LwgqHrvDTDIf"
      }
    },
    {
      "cell_type": "code",
      "source": [
        "import random\n",
        "random_numbers = [random.randint(1,100) for _ in range(5)]\n",
        "print(\"random numbers:\",random_numbers)\n",
        "random_numbers.sort()\n",
        "print(\"sorted numbers:\",random_numbers)\n",
        "\n"
      ],
      "metadata": {
        "colab": {
          "base_uri": "https://localhost:8080/"
        },
        "id": "gJhuwS1nS7SB",
        "outputId": "426d5160-b1a6-46f9-947d-487ab74d4119"
      },
      "execution_count": null,
      "outputs": [
        {
          "output_type": "stream",
          "name": "stdout",
          "text": [
            "random numbers: [79, 90, 68, 17, 60]\n",
            "sorted numbers: [17, 60, 68, 79, 90]\n"
          ]
        }
      ]
    },
    {
      "cell_type": "markdown",
      "source": [
        "Question 28: write a code to creatae a list with strings and print the element at the third index"
      ],
      "metadata": {
        "id": "jtXHkvrkUNC-"
      }
    },
    {
      "cell_type": "code",
      "source": [
        "list = ['apple','banana','orange','kiwi','mango']\n",
        "print(list[3])"
      ],
      "metadata": {
        "colab": {
          "base_uri": "https://localhost:8080/"
        },
        "id": "-k6EhMsFUBj-",
        "outputId": "a2cba943-0cc8-4a40-d38d-c1fa8da40613"
      },
      "execution_count": null,
      "outputs": [
        {
          "output_type": "stream",
          "name": "stdout",
          "text": [
            "kiwi\n"
          ]
        }
      ]
    },
    {
      "cell_type": "markdown",
      "source": [
        "Question 29: write a code to combine two dictionaries into one and printthe result"
      ],
      "metadata": {
        "id": "j-IuwXGvWGeJ"
      }
    },
    {
      "cell_type": "code",
      "source": [
        "dict1 = {'a':1,'b':2}\n",
        "dict2 = {'c':3,'d':4}\n",
        "combined_dict = {**dict1,**dict2}\n",
        "print(combined_dict)\n"
      ],
      "metadata": {
        "colab": {
          "base_uri": "https://localhost:8080/"
        },
        "id": "-GaK6qvDVi6r",
        "outputId": "28b18aec-267b-4b71-c62f-0bc313b34990"
      },
      "execution_count": null,
      "outputs": [
        {
          "output_type": "stream",
          "name": "stdout",
          "text": [
            "{'a': 1, 'b': 2, 'c': 3, 'd': 4}\n"
          ]
        }
      ]
    },
    {
      "cell_type": "markdown",
      "source": [
        "Quiestion 30: write a code to convert a list of strings into a set"
      ],
      "metadata": {
        "id": "hnJDtFUHWgRj"
      }
    },
    {
      "cell_type": "code",
      "source": [
        "string_list = [\"apple\",\"banana\",\"apple\",\"cherry\",\"banana\"]\n",
        "string_set = set(string_list)\n",
        "print(string_set)"
      ],
      "metadata": {
        "colab": {
          "base_uri": "https://localhost:8080/"
        },
        "id": "BCZ451JtWV7S",
        "outputId": "8febbe8b-a034-4c62-ce7f-8e075f119938"
      },
      "execution_count": null,
      "outputs": [
        {
          "output_type": "stream",
          "name": "stdout",
          "text": [
            "{'banana', 'cherry', 'apple'}\n"
          ]
        }
      ]
    },
    {
      "cell_type": "code",
      "source": [],
      "metadata": {
        "id": "ShCzEOn_XAqS"
      },
      "execution_count": null,
      "outputs": []
    }
  ]
}
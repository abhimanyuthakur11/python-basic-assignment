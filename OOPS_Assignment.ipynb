{
  "nbformat": 4,
  "nbformat_minor": 0,
  "metadata": {
    "colab": {
      "provenance": []
    },
    "kernelspec": {
      "name": "python3",
      "display_name": "Python 3"
    },
    "language_info": {
      "name": "python"
    }
  },
  "cells": [
    {
      "cell_type": "markdown",
      "source": [
        "OOPS ASSIGNMENT:\n"
      ],
      "metadata": {
        "id": "GegzE6B3kVC-"
      }
    },
    {
      "cell_type": "markdown",
      "source": [
        "Theory Question\n",
        "\n",
        "\n",
        "Question 1: What is Object-Oriented Programming (OOP)?\n",
        "- Object-Orienred Programming is a programming apporoach that uses objects and classes.It's all about creating code that models real-world things aws object with properties and behaviours.OOP makes code more organizesd and reusable through principles like encapsulation,inheritance,polymorphism,and abstraction.\n",
        "\n",
        "\n",
        "Quiestion 2: What is a class in OOP?\n",
        "- A class is basically a blueprint for creating objects.Think of it like a template that defines what properties (attributes) and actions (methods) objects of that type will have.\n",
        "\n",
        "\n",
        "Question 3: What is an object in OOP?\n",
        "- An object is an instance of a class-it's the actual thing created from the class blueprint.If a class is like a cookie cutterr,an object is like the cookie.Each object has it's own value for the attributes defined in the class.\n",
        "\n",
        "\n",
        "Question 4: What is the difference between abstraction and encapsulation?\n",
        "- Abstraction and Encapsulation are releated but different:\n",
        "\n",
        "  > Abstraction is about simplifying complex reality by showing only what's necessary.It's like driving a car - I just need to know about the steering wheel and pedals,not the engine internal.\n",
        "\n",
        "  > Encapsulation is about bundling data and methods together and restricting access to internal details.It's like putting a protective shell around your object's data to control how it's accessed and modified.\n",
        "\n",
        "Both hide complexity,but abstraction is about simplification whikle encapsulation is about protection.\n",
        "\n",
        "\n",
        "Question 5: What a dunder method in python?\n",
        "- Dunder methods(double underscore methods) are special built-in method in python that start and end with double underscores.they're also called a magic methods because they lety me define how your objects behave with built-in python operations.  Some common ones are:\n",
        "\n",
        "> _int_ for intializing bjects\n",
        "> _str_ for string reprtesentation\n",
        "> _len_ for getting length\n",
        "> _add_ for addition operation\n",
        "\n",
        "\n",
        "Question 6: Explain the concept of inheritance in OOP?\n",
        "- Inheritance lets a class (child class) acquire the properties and methosds of another calss (parent class).It's a way to create new classes that are built upon existing classes.\n",
        "For example: If i have a vehicle claass,you could create a car and motorcycle classes that inherit from it.Both would get the common vehicle features,but i can add specific features to each child class.\n",
        "\n",
        "\n",
        "Question 7: What is polymorphism in OOP?\n",
        "- Polymorphism means \"many forms:\" and it allows objects of different types to be trated as objects of a common type.It's about using interface for different underlying implementations.\n",
        "\n",
        "\n",
        "Question 8: How is encapsulation achieved in python?\n",
        "- Python using naming conventions for encapsulation:\n",
        "\n",
        "Regular attributes/methodfs are public Names with a single underscore prefix (_name) suggest that they are protected (a convention) Names with double underscore (__name) are name -mangled to make them harder to access from outside.\n",
        "\n",
        "\n",
        "Question 10: What is a constructor in python?\n",
        "- A constructor is the method that gets called when i created a new object.Inpython ,the _init_ method serves as the constructor.It intializes the new object with any attributes I want to set up from the start.\n",
        "\n",
        "\n",
        "Question 11: What is method overloading in python?\n",
        "- Method overloading is having multiple methods with the same name but different parameters.Python doesn't support traditional method overloading like some other languages.Instead ,i can simulate it by using default arguments,variable-length arguments (*args,**kwargs) or by checking the parameters type instead the method.\n",
        "\n",
        "\n",
        "Question 12: What is method overriding in python?\n",
        "- Method overriding occurs whwn a child calss provides a specific implementation for a method that's already defined in its parent class.When i override method ,i replace the parent's implementation with my own in the child class.\n",
        "\n",
        "\n",
        "Quiestion 13: What is a property decorator in python?\n",
        "- The property decorator(@property) let's me define methods that act like attributes.It's way to implement getters,setterts, and deleters for class attributes without changing how i access them in my code.\n",
        "\n",
        "\n",
        "Question 14: Why is polymorphism important in OOP?\n",
        "- Polymorphism is important because it allows for:\n",
        "Code flexiblity and reusability writing more generic and abstract code implementing interfaces that can work with objects of different types extension of functionality withou modifying existing code it enables me to write a code that can operate an object of various classes as lomg as they support the same interface, which makes my code more modular and maintainable.\n",
        "\n",
        "\n",
        "Question 15: What is an abstract class in python?\n",
        "- An abstract class is a class that cannot be instantiated directly and designed to be subclassed.It often contains one aor more abstract methods that must be implemented by its subclasses.\n",
        "\n",
        "\n",
        "Question 16: What are the advantages of OOP?\n",
        "- The main advantages of OOP include:\n",
        "\n",
        " > Modularity: Code is organized into objects that can be maintained\n",
        "              seperately.\n",
        " > Reusability: Through inheritance and composition.\n",
        " > Miantainability: Changes in one part don't affect other parts.\n",
        " > Encapsulation: Data hiding prevents accidental modification.\n",
        " > Abstractor: Complex systems can be modeled at higher level.\n",
        " > Polymorphism: Same interface for different implementations.\n",
        " > Real-world modeling: Natural way to represent entities and their\n",
        "                        relationship.\n",
        "\n",
        "\n",
        "Question 17: What is the difference between a class variable and an instance variable?\n",
        "- The key differences are:\n",
        "\n",
        "Class Variable:-\n",
        "  \n",
        "  . Defined at the class level,outside any methods.\n",
        "  . shared among all instances of the class.\n",
        "  . accessed via Class.Variable or self.variable\n",
        "  . Memory efficient when the value should be the same for all instances.\n",
        "\n",
        "Instance Variable:-\n",
        "\n",
        "  . Define inside methods,typically in init\n",
        "  . Unique to each instance of the class\n",
        "  . Accessed via self.variable\n",
        "  . Allow each object to have its own state.\n",
        "\n",
        "\n",
        "Question 18: What is multiple inheritance in python?\n",
        "- Multiple Inheritance is when a class inherits from more than one parent class.It allows a class to combime attributes and methods from multiple sources.Python uses the Method Resolution Order(MRO) and the C3 linearization algorithm to determine the order in which methods are resolved.\n",
        "\n",
        "\n",
        "Question 19: Explain the purpose of 'str' and 'repr' methods in python?\n",
        "- Both methods return string represenrting of objects,but they serve different purposes:\n",
        "\n",
        "_str_: defines the \"informal\" string representation of an object.It's meant to be readable for end users and is called by str() and print().\n",
        "\n",
        "_repr_: Defines the \"official\" string representation of an objectIt should ideally contain information to recreate the object and is called by repr().\n",
        "\n",
        "\n",
        "Question 20: What is the significance of the 'super()' function in python?\n",
        "- The super() function allows me to call methods from a parent class.It's particularly useful in inheritance scenarios when i want to extend functionallity rather than completely replace it.\n",
        "\n",
        "\n",
        "Question 21: What is the significance of the del method in python>?\n",
        "- The _del_ method is a special method that works as a destructor in python.It's called when an object is about to be destroyed I can use it to handle cleanup operation like closing files,releasing resources resources,or disconnecting from databases.However,it's generally better to use context managers for resource mangement since_del_ isn't guaranteed to be called in all situations.\n",
        "\n",
        "\n",
        "Question 22: What is the difference between @staticmethod and @classmethod in python?\n",
        "- The main differences are:\n",
        "\n",
        "@staticmethod:\n",
        "\n",
        "  . Doesn't take the mandatory first argument\n",
        "  . Cannot access or modify class state\n",
        "  . Behaves like a regular function but belongsto the class namespace\n",
        "  . Used for utility functions reletaed to the class but not dependent on class sate\n",
        "\n",
        "@classmethod:\n",
        "\n",
        "  . Takes the class itself as the first argument\n",
        "  . Can access and modify class variables\n",
        "  . Can be used as alternative constructors\n",
        "  . Works with inheritance\n",
        "\n",
        "\n",
        "Question 23: How does polymorphism work in python with inheritance?\n",
        "- In python,polymorphism with inheritance works through method overriding.When a subclass provides aspecific implementation for a method that's already defined in its parent class.I can use the subclass object whenever the parent class is ecpected,and the appropriate method implementation will be called.\n",
        "\n",
        "\n",
        "Question 24: What is the method chaining in python OOP?\n",
        "- Method chaining is a programming pattern where i call multiple methods in sequence on the same object.Each method returns self, allowing me to chain anorther method call immediately after.This creates, mnore concise and readble code by reducing the need to repeat the object name.\n",
        "\n",
        "\n",
        "Question 25: What is the purpose of the call method in python?\n",
        "- The call methods allows an object to be called like a function.When i define the method in a class,inheritances of that class become callable.This is useful for craeting function-like objects that maintain state between calls or have configurable behavior.\n",
        "\n",
        "\n"
      ],
      "metadata": {
        "id": "fjwmrKKfkage"
      }
    },
    {
      "cell_type": "markdown",
      "source": [
        "Practical Question"
      ],
      "metadata": {
        "id": "Mw6n-_FKEhOr"
      }
    },
    {
      "cell_type": "markdown",
      "source": [
        "question 1: Create a parent class Animal with a mthod speak() that prints a generic message.Create a child class Dog that overrides tjhe speak() method to print \"Bark!'"
      ],
      "metadata": {
        "id": "dW4m2GAFEv7-"
      }
    },
    {
      "cell_type": "code",
      "execution_count": null,
      "metadata": {
        "id": "fhHZyOL2kMlM"
      },
      "outputs": [],
      "source": [
        "class Animal:\n",
        "    def speak(self):\n",
        "        print(\"The animal speaks.\")\n",
        "\n",
        "class Dog(Animal):\n",
        "    def speak(self):\n",
        "        print(\"barks.\")"
      ]
    },
    {
      "cell_type": "markdown",
      "source": [
        "Question 2: Write a program to create an abstract class area().Drive classes circle anad rectangle from it and implemente the area() method in both?"
      ],
      "metadata": {
        "id": "bw56PJYcBxW_"
      }
    },
    {
      "cell_type": "code",
      "source": [
        "from abc import ABC, abstractmethod\n",
        "import math\n",
        "\n",
        "class Area(ABC):\n",
        "    @abstractmethod\n",
        "    def calculate_area(self):\n",
        "        pass\n",
        "class circle (ABC):\n",
        "  def __init__(self,radius):\n",
        "    self.radius=radius\n",
        "  def calculate_area(self):\n",
        "    return math.pi*self.radius**2\n",
        "class rectangle(ABC):\n",
        "  def __init__(self,length,width):\n",
        "    self.length=length\n",
        "    self.width=width\n",
        "  def calculate_area(self):\n",
        "    return self.length*self.width\n",
        "\n",
        "circle = circle(5)\n",
        "print(circle.calculate_area())\n",
        "\n",
        "rectangle = rectangle(4,6)\n",
        "print(rectangle.calculate_area())\n"
      ],
      "metadata": {
        "id": "3di9t99WFtCO",
        "colab": {
          "base_uri": "https://localhost:8080/"
        },
        "outputId": "1f5512f7-33b3-4018-cbc8-a36c1bd23877"
      },
      "execution_count": null,
      "outputs": [
        {
          "output_type": "stream",
          "name": "stdout",
          "text": [
            "78.53981633974483\n",
            "24\n"
          ]
        }
      ]
    },
    {
      "cell_type": "markdown",
      "source": [
        "Question 3: Implement a multi-level inheritance scenario where a class vehicle has an attribute type.Derive a class Car and further derive a class.Electric car that adds a battery attribute."
      ],
      "metadata": {
        "id": "1n5jtYZUFQWt"
      }
    },
    {
      "cell_type": "code",
      "source": [
        "class vehicle:\n",
        "  def __init__(self,type):\n",
        "    self.type=type\n",
        "  def get_type(self):\n",
        "    return f\"this is a {self.type} vehicle\"\n",
        "class car (vehicle):\n",
        "  def __init__(self,brand,model):\n",
        "    super().__init__(\"passenger\")\n",
        "    self.brand=brand\n",
        "    self.model=model\n",
        "  def get_info(self):\n",
        "    return f\"{self.brand} , {self.model} , {self.get_type()}\"\n",
        "class electric_car(car):\n",
        "  def __init__(self,brand,model,battery_capacity):\n",
        "    super().__init__(brand,model)\n",
        "    self.battery_capacity=battery_capacity\n",
        "  def get_info(self):\n",
        "    return f\" {self.brand} , {self.model} , {self.battery_capacity} , {self.get_type()}\"\n",
        "\n",
        "tesla = electric_car (\"tesla\",\"model 5\",85)\n",
        "print(tesla.get_info())\n"
      ],
      "metadata": {
        "colab": {
          "base_uri": "https://localhost:8080/"
        },
        "id": "pKi3_cywEUPA",
        "outputId": "e5668f54-2c1b-4460-b4a0-0594fc90f240"
      },
      "execution_count": null,
      "outputs": [
        {
          "output_type": "stream",
          "name": "stdout",
          "text": [
            " tesla , model 5 , 85 , this is a passenger vehicle\n"
          ]
        }
      ]
    },
    {
      "cell_type": "markdown",
      "source": [
        "Question 4: Demonstrate polymorphism by creating a base clas bird with amethod sparrow and penguin that override the fly() method."
      ],
      "metadata": {
        "id": "vHdvLIx8JT9-"
      }
    },
    {
      "cell_type": "code",
      "source": [],
      "metadata": {
        "id": "-oQLmBz3UYjl"
      },
      "execution_count": null,
      "outputs": []
    },
    {
      "source": [
        "class Bird:\n",
        "  # Corrected the constructor name from _init_ to __init__\n",
        "  def __init__(self,name):\n",
        "    self.name=name\n",
        "  def fly(self):\n",
        "    print(f\"{self.name} is flying\")\n",
        "class Sparrow(Bird):\n",
        "  def fly(self):\n",
        "    print (f\"{self.name} is flying high and fast\")\n",
        "class penguin(Bird):\n",
        "  def fly(self):\n",
        "    print(f\"{self.name} cannot fly,but can swim\")\n",
        "def let_bird_fly (bird):\n",
        "  bird.fly()\n",
        "\n",
        "birds = [Bird(\"generic bird\"),Sparrow(\"sparrow\"),penguin(\"penguin\")]\n",
        "for bird in birds:\n",
        "   let_bird_fly(bird)"
      ],
      "cell_type": "code",
      "metadata": {
        "colab": {
          "base_uri": "https://localhost:8080/"
        },
        "id": "nsbOgVXaUZTo",
        "outputId": "e715c208-3f4d-4dbb-bf08-a21011ec0197"
      },
      "execution_count": null,
      "outputs": [
        {
          "output_type": "stream",
          "name": "stdout",
          "text": [
            "generic bird is flying\n",
            "sparrow is flying high and fast\n",
            "penguin cannot fly,but can swim\n"
          ]
        }
      ]
    },
    {
      "cell_type": "markdown",
      "source": [
        "Question 5: Write a program to demonstrate encapsulation by creating a class BankAccount with private attributes balance and methods to deposit,withdrawand check balance\n"
      ],
      "metadata": {
        "id": "8-WGb94sPx5_"
      }
    },
    {
      "source": [
        "class Bird:\n",
        "  # Corrected the constructor name from _init_ to __init__\n",
        "  def __init__(self,name):\n",
        "    self.name=name\n",
        "  def fly(self):\n",
        "    print(f\"{self.name} is flying\")\n",
        "class Sparrow(Bird):\n",
        "  def fly(self):\n",
        "    print (f\"{self.name} is flying high and fast\")\n",
        "class penguin(Bird):\n",
        "  def fly(self):\n",
        "    print(f\"{self.name} cannot fly,but can swim\")\n",
        "def let_bird_fly (bird):\n",
        "  bird.fly()\n",
        "\n",
        "birds = [Bird(\"generic bird\"),Sparrow(\"sparrow\"),penguin(\"penguin\")]\n",
        "for bird in birds:\n",
        "   let_bird_fly(bird)"
      ],
      "cell_type": "code",
      "metadata": {
        "colab": {
          "base_uri": "https://localhost:8080/"
        },
        "id": "xuTRPmpJUi5g",
        "outputId": "6a694958-a1cf-43c4-f25e-d1af8c552d68"
      },
      "execution_count": null,
      "outputs": [
        {
          "output_type": "stream",
          "name": "stdout",
          "text": [
            "generic bird is flying\n",
            "sparrow is flying high and fast\n",
            "penguin cannot fly,but can swim\n"
          ]
        }
      ]
    },
    {
      "cell_type": "markdown",
      "source": [
        "Question 6: Demonstrate runtime polymorphism using a method play() in a base class instrument.derive classes guitar and piano that implement their own version of play()."
      ],
      "metadata": {
        "id": "MkZ-GXamUmxh"
      }
    },
    {
      "source": [
        "class instrument:\n",
        "  # Corrected the constructor name from _init_ to __init__\n",
        "  def __init__(self,name):\n",
        "    self.name=name\n",
        "  def play(self):\n",
        "    print(f\"playing the {self.name}\")\n",
        "\n",
        "class guitar(instrument):\n",
        "  # Corrected the constructor name from _init_ to __init__\n",
        "  def __init__(self): # The guitar class doesn't need a 'name' parameter here if it's always \"Guitar\"\n",
        "    super().__init__(\"Guitar\") # Pass \"Guitar\" directly to the parent constructor\n",
        "  def play(self):\n",
        "    print(f\"Strumming the {self.name}\")\n",
        "\n",
        "class piano(instrument):\n",
        "  # Corrected the constructor name from _init_ to __init__\n",
        "  def __init__(self): # The piano class doesn't need a 'name' parameter here if it's always \"piano\"\n",
        "    super().__init__(\"piano\") # Pass \"piano\" directly to the parent constructor\n",
        "  def play(self):\n",
        "    print(f\"pressing keys on the {self.name}\")\n",
        "\n",
        "# Create instances and call the play method\n",
        "guitar_obj = guitar()\n",
        "piano_obj = piano()\n",
        "\n",
        "guitar_obj.play()\n",
        "piano_obj.play()"
      ],
      "cell_type": "code",
      "metadata": {
        "colab": {
          "base_uri": "https://localhost:8080/"
        },
        "id": "_-dca7vuYBeT",
        "outputId": "0ec4e520-0b90-4eda-8ad1-7e3008520dc2"
      },
      "execution_count": null,
      "outputs": [
        {
          "output_type": "stream",
          "name": "stdout",
          "text": [
            "Strumming the Guitar\n",
            "pressing keys on the piano\n"
          ]
        }
      ]
    },
    {
      "cell_type": "markdown",
      "source": [
        "Question 7: Create a class MathOperations with a class Method add_numbers() to add two numbers and a static method subtract_numbers()to subtract two numbers"
      ],
      "metadata": {
        "id": "dnuKj5XyYHLI"
      }
    },
    {
      "cell_type": "code",
      "source": [
        "class MathOperations:\n",
        "  @classmethod\n",
        "  def add_numbers (cls,a,b):\n",
        "    return a+b\n",
        "  @staticmethod\n",
        "  def subtract_numbers(a,b):\n",
        "    return a-b\n",
        "print(MathOperations.add_numbers(5,3))\n",
        "print(MathOperations.subtract_numbers(5,3))\n"
      ],
      "metadata": {
        "colab": {
          "base_uri": "https://localhost:8080/"
        },
        "id": "p2wBcNkaVnEk",
        "outputId": "d27f127f-269b-435b-8c21-39c8e370c4dd"
      },
      "execution_count": null,
      "outputs": [
        {
          "output_type": "stream",
          "name": "stdout",
          "text": [
            "8\n",
            "2\n"
          ]
        }
      ]
    },
    {
      "cell_type": "markdown",
      "source": [
        "Question 8: Implement a class person with aclass method to count the total number of persons created\n"
      ],
      "metadata": {
        "id": "iEdZX-lbZIkB"
      }
    },
    {
      "cell_type": "code",
      "source": [
        " class person:\n",
        "  #class variable to keep track of the count\n",
        "  count = 0\n",
        "  def __init__(self,name,age):\n",
        "    self.name = name\n",
        "    self.age = age\n",
        "    # increment the count when a new person is created\n",
        "    person.count += 1\n",
        "  @classmethod\n",
        "  def get_count(cls):\n",
        "    return cls.count\n",
        "  def get_info(self):\n",
        "    return f\"{self.name} is {self.age} years old\"\n",
        "\n",
        "# testing the class\n",
        "person1 = person(\"Alice\",25)\n",
        "person2 = person(\"Bob\",30)\n",
        "print(person.get_count())\n",
        "print(person1.get_info())\n",
        "print(person2.get_info())"
      ],
      "metadata": {
        "colab": {
          "base_uri": "https://localhost:8080/"
        },
        "id": "L5lqMqXoY6UO",
        "outputId": "918f6d9a-faa6-4832-fead-88dc2c97e143"
      },
      "execution_count": null,
      "outputs": [
        {
          "output_type": "stream",
          "name": "stdout",
          "text": [
            "2\n",
            "Alice is 25 years old\n",
            "Bob is 30 years old\n"
          ]
        }
      ]
    },
    {
      "cell_type": "markdown",
      "source": [
        "question 9: Write a class fraction with attributes numerator and denominator.Override the str method to display the fraction as \"numerator/denominator\""
      ],
      "metadata": {
        "id": "I3mTYvBUa8DQ"
      }
    },
    {
      "cell_type": "code",
      "source": [
        "class fraction:\n",
        "  def __init__(self,numerator,denominator):\n",
        "    self.numerator = numerator\n",
        "    self.denominator = denominator\n",
        "  def __str__(self):\n",
        "    return f\"{self.numerator}/{self.denominator}\"\n",
        "class fraction:\n",
        "  def __init__(self,numerator,denominator):\n",
        "    self.numerator = numerator\n",
        "    self.denominator = denominator\n",
        "  def __str__(self):\n",
        "    return f\"{self.numerator}/{self.denominator}\"\n",
        "\n",
        "# testing the class\n",
        "fraction1 = fraction(3,4)\n",
        "fraction2 = fraction(1,4)\n",
        "print(fraction1,fraction2)"
      ],
      "metadata": {
        "colab": {
          "base_uri": "https://localhost:8080/"
        },
        "id": "ZWLDIpaeaGxK",
        "outputId": "2658edeb-71e0-4fcd-c96f-44b2a46aea5c"
      },
      "execution_count": null,
      "outputs": [
        {
          "output_type": "stream",
          "name": "stdout",
          "text": [
            "3/4 1/4\n"
          ]
        }
      ]
    },
    {
      "cell_type": "markdown",
      "source": [
        "Question 10: Demonstrate operator overloading by crerating a class vector and overriding the add method too add two vectors"
      ],
      "metadata": {
        "id": "txLFEJ1JbufA"
      }
    },
    {
      "cell_type": "code",
      "source": [
        "class vector:\n",
        "  def __init__(self,x,y):\n",
        "    self.x=x\n",
        "    self.y=y\n",
        "  def __add__(self,other):\n",
        "    if isinstance(other,vector):\n",
        "      return vector(self.x+other.x,self.y+other.y)\n",
        "    raise TypeError(\"can only add another vector\")\n",
        "  def __str__(self):\n",
        "    return f\"({self.x},{self.y})\"\n",
        "\n",
        "# testing the class\n",
        "v1 = vector (2,4)\n",
        "v2 = vector (5,7)\n",
        "v3 = v1 + v2\n",
        "print(f\"vector 1: {v1}\")\n",
        "print(f\"vector 2: {v2}\")\n",
        "print(f\"vector 3: {v3}\")"
      ],
      "metadata": {
        "colab": {
          "base_uri": "https://localhost:8080/"
        },
        "id": "vulA-U-ZbnJM",
        "outputId": "6acdd420-9fd9-4485-f7dc-1d472d19f5db"
      },
      "execution_count": null,
      "outputs": [
        {
          "output_type": "stream",
          "name": "stdout",
          "text": [
            "vector 1: (2,4)\n",
            "vector 2: (5,7)\n",
            "vector 3: (7,11)\n"
          ]
        }
      ]
    },
    {
      "cell_type": "markdown",
      "source": [
        "Question 11: Create a class person with attributes name and age.Add a method greet() that prints\"hello\",my name is {name} and i am {age} years old\"."
      ],
      "metadata": {
        "id": "idRNNjZ-dMf-"
      }
    },
    {
      "cell_type": "code",
      "source": [
        "class person:\n",
        "  def __init__(self,name,age):\n",
        "    self.name = name\n",
        "    self.age = age\n",
        "  def greet(self):\n",
        "    print(f\"Hello,my name is {self.name} and i am {self.age} years old\")\n",
        "\n",
        "# testing the class\n",
        "person1 = person(\"Abhimanyu\",25)\n",
        "person1.greet()"
      ],
      "metadata": {
        "colab": {
          "base_uri": "https://localhost:8080/"
        },
        "id": "wl3a-JWqc_uE",
        "outputId": "0058b897-92be-4a60-8287-c9eaecc5b0c5"
      },
      "execution_count": null,
      "outputs": [
        {
          "output_type": "stream",
          "name": "stdout",
          "text": [
            "Hello,my name is Abhimanyu and i am 25 years old\n"
          ]
        }
      ]
    },
    {
      "cell_type": "markdown",
      "source": [
        "question 12: Implement a class student with attributes name and grades . create a method average_grade()to compute the average of the grades"
      ],
      "metadata": {
        "id": "ivsHXidod4Hu"
      }
    },
    {
      "cell_type": "code",
      "source": [
        "class student:\n",
        "  def __init__(self,name,grades):\n",
        "    self.name = name\n",
        "    self.grades = grades\n",
        "  def average_grade(self):\n",
        "    return sum(self.grades)/len(self.grades)\n",
        "  def display_info(self):\n",
        "    avg = self.average_grade()\n",
        "    return f\" {self.name}'s average grade : {avg:2f}\"\n",
        "# testing the class\n",
        "student1 = student(\"Abhimanyu\",[85,80,90,87])\n",
        "student2 = student(\"abhi\",[75,68,80,78])\n",
        "student1.display_info()\n",
        "student2.display_info()"
      ],
      "metadata": {
        "colab": {
          "base_uri": "https://localhost:8080/",
          "height": 35
        },
        "id": "8a7qQkp1d29w",
        "outputId": "c76b4c88-a3fa-42b8-fd96-fa85d1f4bd0c"
      },
      "execution_count": null,
      "outputs": [
        {
          "output_type": "execute_result",
          "data": {
            "text/plain": [
              "\" abhi's average grade : 75.250000\""
            ],
            "application/vnd.google.colaboratory.intrinsic+json": {
              "type": "string"
            }
          },
          "metadata": {},
          "execution_count": 59
        }
      ]
    },
    {
      "cell_type": "markdown",
      "source": [
        "Question 13: Create a class Rectangle with methods set_dimensions() to set the dimensions and area () to calculate the area"
      ],
      "metadata": {
        "id": "Tzn82EfIhf0k"
      }
    },
    {
      "source": [
        "class rectangle:\n",
        "  def __init__(self,length,width):\n",
        "    self.length = length\n",
        "    self.width = width\n",
        "  def set_dimensions(self,length,width):\n",
        "    self.length = length\n",
        "    self.width = width\n",
        "  def area(self):\n",
        "    # The area method was not returning a value.\n",
        "    # It should return the calculated area.\n",
        "    return self.length * self.width\n",
        "\n",
        "# testing the class\n",
        "# Provide the required length and width when creating the instance.\n",
        "rectangle = rectangle(0, 0) # Initialize with default values or desired initial values\n",
        "rectangle.set_dimensions(5,3)\n",
        "print(rectangle.area())"
      ],
      "cell_type": "code",
      "metadata": {
        "colab": {
          "base_uri": "https://localhost:8080/"
        },
        "id": "AWKXKy91kX2_",
        "outputId": "b8cb5e13-1085-4baa-9845-d8d631b0683a"
      },
      "execution_count": null,
      "outputs": [
        {
          "output_type": "stream",
          "name": "stdout",
          "text": [
            "15\n"
          ]
        }
      ]
    },
    {
      "cell_type": "markdown",
      "source": [
        "Question 14: Create a class employee with a method calculate_salary()that computes trhe salary based on hours worked and hourly rate.Create a derived class manager that adds a bonus to the salary"
      ],
      "metadata": {
        "id": "9qKFnq49h4sG"
      }
    },
    {
      "source": [
        "class employee:\n",
        "  def __init__(self,name,hours_worked,hourly_rate):\n",
        "    self.name = name\n",
        "    self.hours_worked = hours_worked\n",
        "    self.hourly_rate = hourly_rate\n",
        "  def calculate_salary(self):\n",
        "    return self.hours_worked * self.hourly_rate\n",
        "  def display_info (self):\n",
        "    # Changed the format specifier from ':,2f' to ',.2f'\n",
        "    # The comma is for thousand separators, and .2f is for two decimal places.\n",
        "    # This is the correct way to format a float with comma separators and decimal places.\n",
        "    return f\"{self.name}'s salary: ${self.calculate_salary():,.2f}\"\n",
        "\n",
        "class manager(employee):\n",
        "  def __init__(self,name,hours_worked,hourly_rate,bonus):\n",
        "    super().__init__(name,hours_worked,hourly_rate)\n",
        "    self.bonus = bonus\n",
        "  def calculate_salary(self):\n",
        "    base_salary = super().calculate_salary()\n",
        "    return base_salary + self.bonus\n",
        "  def display_info(self):\n",
        "    # Changed the format specifier from ':,2f' to ',.2f'\n",
        "    return f\"{self.name}'s salary: ${self.calculate_salary():,.2f}\"\n",
        "\n",
        "# testing the class\n",
        "employee = employee(\"prashant\", 40 , 30)\n",
        "manager = manager(\"abhi\", 40, 30, 1000)\n",
        "print(employee.display_info())\n",
        "print(manager.display_info())"
      ],
      "cell_type": "code",
      "metadata": {
        "colab": {
          "base_uri": "https://localhost:8080/"
        },
        "id": "89aZQG8smhjH",
        "outputId": "989d09f7-46ba-40b3-81eb-aae61320351a"
      },
      "execution_count": null,
      "outputs": [
        {
          "output_type": "stream",
          "name": "stdout",
          "text": [
            "prashant's salary: $1,200.00\n",
            "abhi's salary: $2,200.00\n"
          ]
        }
      ]
    },
    {
      "cell_type": "markdown",
      "source": [
        "Question 15: Create a class product with attriburtes name ,price and quality.implement a method total_price of the product."
      ],
      "metadata": {
        "id": "1OgLh0oOiWdL"
      }
    },
    {
      "cell_type": "code",
      "source": [
        "class product:\n",
        "  def __init__(self,name,price,quality):\n",
        "    self.name = name\n",
        "    self.price = price\n",
        "    self.quality = quality\n",
        "  def total_price(self):\n",
        "    return self.price * self.quality\n",
        "  def display_info(self):\n",
        "    return f\"product:{self.name},price: ${self.price}, quantity:{self.quality}, total:{self.total_price()}\"\n",
        "\n",
        "# testing theb class\n",
        "product1 = product (\"laptop\",999.99,2)\n",
        "print(product1.display_info())"
      ],
      "metadata": {
        "colab": {
          "base_uri": "https://localhost:8080/"
        },
        "id": "nTKTCsAUil7V",
        "outputId": "2c8196d9-c39d-4151-a7f6-c3290ed2bc9c"
      },
      "execution_count": null,
      "outputs": [
        {
          "output_type": "stream",
          "name": "stdout",
          "text": [
            "product:laptop,price: $999.99, quantity:2, total:1999.98\n"
          ]
        }
      ]
    },
    {
      "cell_type": "markdown",
      "source": [
        "question 16: Create a class animal with an abstract method sound().create two derived classes cow and sheep that implement the sounds()method"
      ],
      "metadata": {
        "id": "XPg6JkiLimR3"
      }
    },
    {
      "source": [
        "from abc import ABC, abstractmethod\n",
        "\n",
        "class Animal(ABC):\n",
        "    @abstractmethod\n",
        "    def sound(self):\n",
        "        pass\n",
        "    def get_info(self):\n",
        "      # This method relies on self.name, so the derived classes must have a name attribute.\n",
        "      return f\"{self.name} says {self.sound()}\"\n",
        "\n",
        "class cow(Animal):\n",
        "    def __init__(self,name):\n",
        "        self.name = name # Initialize the name attribute\n",
        "    def sound(self):\n",
        "        return \"moo!\"\n",
        "\n",
        "class sheep(Animal):\n",
        "    # Add an __init__ method to accept a name argument and initialize the name attribute\n",
        "    def __init__(self, name):\n",
        "        self.name = name\n",
        "    def sound(self):\n",
        "        return \"baa!\"\n",
        "\n",
        "# testing the class\n",
        "# Use different variable names for the instances\n",
        "cow_instance1 = cow(\"beddie\")\n",
        "sheep_instance1 = sheep(\"whooly\")\n",
        "print(cow_instance1.get_info())\n",
        "print(sheep_instance1.get_info())\n",
        "\n",
        "# Assuming the intention was to create generic \"cow\" and \"sheep\" objects as well,\n",
        "# these calls should also now work because __init__ is defined.\n",
        "# Use different variable names for the instances\n",
        "cow_instance2 = cow(\"cow\")\n",
        "sheep_instance2 = sheep(\"sheep\")\n",
        "print(cow_instance2.get_info())\n",
        "print(sheep_instance2.get_info())"
      ],
      "cell_type": "code",
      "metadata": {
        "colab": {
          "base_uri": "https://localhost:8080/"
        },
        "id": "rELFkZJLr0pD",
        "outputId": "7b80d5dc-067e-4ce5-afcf-c9a9cf2d8b88"
      },
      "execution_count": null,
      "outputs": [
        {
          "output_type": "stream",
          "name": "stdout",
          "text": [
            "beddie says moo!\n",
            "whooly says baa!\n",
            "cow says moo!\n",
            "sheep says baa!\n"
          ]
        }
      ]
    },
    {
      "cell_type": "markdown",
      "source": [
        "Question 17: Create a class block with attributes title,author and year_published.Add a method get_book_info() that returns a formatted string with the books's details."
      ],
      "metadata": {
        "id": "rI0suKiujBNK"
      }
    },
    {
      "cell_type": "code",
      "source": [
        "class book:\n",
        "  def __init__(self,title,author,year_published):\n",
        "    self.title = title\n",
        "    self.author = author\n",
        "    self.year_published = year_published\n",
        "  def get_book_info(self):\n",
        "    return f\" '{self.title}' by {self.author}({self.year_published})\"\n",
        "\n",
        "# testing the class\n",
        "book1 = book (\"to kill a mockingbird\",\"harper lee\", 1960)\n",
        "book2 = book (\"1984\",\"george orwell\",1949)\n",
        "print (book1.get_book_info())\n",
        "print (book2.get_book_info())"
      ],
      "metadata": {
        "colab": {
          "base_uri": "https://localhost:8080/"
        },
        "id": "jJ4cZP8OjbAm",
        "outputId": "69e135d6-ee45-47ca-aede-d4291f325957"
      },
      "execution_count": null,
      "outputs": [
        {
          "output_type": "stream",
          "name": "stdout",
          "text": [
            " 'to kill a mockingbird' by harper lee(1960)\n",
            " '1984' by george orwell(1949)\n"
          ]
        }
      ]
    },
    {
      "cell_type": "markdown",
      "source": [
        "question 18: Create a class house with attributes address and price. Create a derived class number _of_rooms."
      ],
      "metadata": {
        "id": "KFL7kjh1jbVd"
      }
    },
    {
      "source": [
        "class house:\n",
        "  def __init__(self,address,price):\n",
        "    self.address = address\n",
        "    self.price = price\n",
        "  def get_house_info(self):\n",
        "    # This method needs to return the formatted string\n",
        "    return f\"{self.address} for ${self.price}\"\n",
        "\n",
        "class mansion(house):\n",
        "  def __init__(self,address,price,number_of_rooms):\n",
        "    super().__init__(address,price)\n",
        "    self.number_of_rooms = number_of_rooms\n",
        "  def get_info(self):\n",
        "    # Call the parent class's get_house_info method and add the number of rooms\n",
        "    base_info = super().get_house_info()\n",
        "    return f\"{base_info}, number of rooms:{self.number_of_rooms}\"\n",
        "\n",
        "# testing the class\n",
        "# Use different variable names for the instances to avoid overwriting the class name\n",
        "my_house = house(\"123 main st\",25000)\n",
        "my_mansion = mansion(\"456 elm st\",600000,8)\n",
        "\n",
        "print(my_house.get_house_info())\n",
        "print(my_mansion.get_info())"
      ],
      "cell_type": "code",
      "metadata": {
        "id": "SYvM5dk2wgd3",
        "outputId": "0824c7ef-1ac2-427c-9bd9-3557c9d03601",
        "colab": {
          "base_uri": "https://localhost:8080/"
        }
      },
      "execution_count": null,
      "outputs": [
        {
          "output_type": "stream",
          "name": "stdout",
          "text": [
            "123 main st for $25000\n",
            "456 elm st for $600000, number of rooms:8\n"
          ]
        }
      ]
    },
    {
      "cell_type": "code",
      "source": [],
      "metadata": {
        "id": "mdQXpvLYwGOP"
      },
      "execution_count": null,
      "outputs": []
    }
  ]
}
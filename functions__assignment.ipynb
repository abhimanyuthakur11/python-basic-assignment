{
  "nbformat": 4,
  "nbformat_minor": 0,
  "metadata": {
    "colab": {
      "provenance": []
    },
    "kernelspec": {
      "name": "python3",
      "display_name": "Python 3"
    },
    "language_info": {
      "name": "python"
    }
  },
  "cells": [
    {
      "cell_type": "markdown",
      "source": [
        "FUNCTIONS ASSIGNNMENT :  "
      ],
      "metadata": {
        "id": "kUaNH19ycC-Z"
      }
    },
    {
      "cell_type": "markdown",
      "source": [
        "THEOERY QUESTION\n",
        "\n",
        "Question 1:\n",
        "what is the difference between function and method in python?\n",
        "- A function is a standalone block of code that perform a specific task,while a method is a function associated with an object or class  "
      ],
      "metadata": {
        "id": "BKfvczCIclSo"
      }
    },
    {
      "cell_type": "code",
      "execution_count": 1,
      "metadata": {
        "id": "KcSl7PdHb2_3"
      },
      "outputs": [],
      "source": [
        "# example\n",
        "def my_function():\n",
        "  return \"i am a function\"\n",
        "\n",
        "class myclass:\n",
        "  def my_method(self):\n",
        "    return\"i am a method\""
      ]
    },
    {
      "cell_type": "markdown",
      "source": [
        "Question 2:\n",
        "Explain the concept of functions arguments and parameters in python?\n",
        "- Parameters are the variable defined in the function signature, and arguments are the values passed to the function when it is called.\n",
        "\n",
        "\n",
        "Question 3:\n",
        "What are the different ways to define and call a function in python?\n",
        "- functions are defined using the 'def' keyword and called using the function name followed by parantheses."
      ],
      "metadata": {
        "id": "dtjgx3xkeKs3"
      }
    },
    {
      "cell_type": "code",
      "source": [
        "# example\n",
        "def addition (a,b):\n",
        "  return a+b\n",
        "  result = addiotion(4,5)\n",
        "  print(result)"
      ],
      "metadata": {
        "id": "V93Ey8_gd-xk"
      },
      "execution_count": 10,
      "outputs": []
    },
    {
      "cell_type": "markdown",
      "source": [
        "Question 4:\n",
        "What is the purpose of the rerturn statement in a python funtion?\n",
        "- The return statement is used to end a function and pass a value back to the caller.\n",
        ""
      ],
      "metadata": {
        "id": "Q3ep0NWmiVjh"
      }
    },
    {
      "cell_type": "code",
      "source": [
        "# example\n",
        "def square(x):\n",
        "  return x**2\n",
        "print(square(5))"
      ],
      "metadata": {
        "colab": {
          "base_uri": "https://localhost:8080/"
        },
        "id": "zTpmu2vBiBEt",
        "outputId": "b68d5089-d3f4-497f-8e8d-0b21e0feefff"
      },
      "execution_count": 7,
      "outputs": [
        {
          "output_type": "stream",
          "name": "stdout",
          "text": [
            "25\n"
          ]
        }
      ]
    },
    {
      "cell_type": "markdown",
      "source": [
        "Question 5:\n",
        "What are the itterators in python and how do they differ from iterables?\n",
        "- Iterables are collectons that can be iterated over.Itterators are the object that produce the next value from an iterable."
      ],
      "metadata": {
        "id": "ynSWaj8AjJuV"
      }
    },
    {
      "cell_type": "code",
      "source": [
        "# example\n",
        "my_list = [1,2,3,4,5]\n",
        "my_iter = iter(my_list)\n",
        "print(next(my_iter))\n",
        "print(next(my_iter))"
      ],
      "metadata": {
        "colab": {
          "base_uri": "https://localhost:8080/"
        },
        "id": "8WZcyC66i_m6",
        "outputId": "c5e35bc0-7e4f-4eea-a5c8-84b154a52453"
      },
      "execution_count": 8,
      "outputs": [
        {
          "output_type": "stream",
          "name": "stdout",
          "text": [
            "1\n",
            "2\n"
          ]
        }
      ]
    },
    {
      "cell_type": "markdown",
      "source": [
        "Question 6:\n",
        "Explain the concept of generators in python and how they are defined?\n",
        "- Generators are defined using functions but use 'yield' intead of return to produce the series of values lazily."
      ],
      "metadata": {
        "id": "XFRSkcrqj81j"
      }
    },
    {
      "cell_type": "code",
      "source": [
        "# example\n",
        "def counter():\n",
        "  for i in range(5):\n",
        "    yield i\n",
        "counter_gen = counter()\n",
        "for num in counter_gen:\n",
        "  print(num)"
      ],
      "metadata": {
        "colab": {
          "base_uri": "https://localhost:8080/"
        },
        "id": "0pFL1olNj7Nq",
        "outputId": "14a1cd47-4e87-44e5-c77a-6cc2b33c48e7"
      },
      "execution_count": 9,
      "outputs": [
        {
          "output_type": "stream",
          "name": "stdout",
          "text": [
            "0\n",
            "1\n",
            "2\n",
            "3\n",
            "4\n"
          ]
        }
      ]
    },
    {
      "cell_type": "markdown",
      "source": [
        "Question 7:\n",
        "What are the advantages of using generators over a regular functions?\n",
        "- Generators offer lazy evaluation,memory efficiency, and improved performance for large data sets."
      ],
      "metadata": {
        "id": "2WS7gdksk0fp"
      }
    },
    {
      "cell_type": "code",
      "source": [
        "# example\n",
        "def even_numbers(n):\n",
        "  for i in range(n):\n",
        "    if i % 2 == 0:\n",
        "      yield i\n",
        "even_gen = even_numbers(10)\n",
        "for num in even_gen:\n",
        "  print(num)"
      ],
      "metadata": {
        "colab": {
          "base_uri": "https://localhost:8080/"
        },
        "id": "RBTU3qOhksOe",
        "outputId": "2016823e-8080-436c-e92f-c9fc987faef2"
      },
      "execution_count": 11,
      "outputs": [
        {
          "output_type": "stream",
          "name": "stdout",
          "text": [
            "0\n",
            "2\n",
            "4\n",
            "6\n",
            "8\n"
          ]
        }
      ]
    },
    {
      "cell_type": "markdown",
      "source": [
        "Question 8:\n",
        "What is a lambda function in python and when is is typically used?\n",
        "- A lambda function is an anonymous,single-expression function often used for short-term tasks.\n"
      ],
      "metadata": {
        "id": "Ca5JiPuGl56Y"
      }
    },
    {
      "cell_type": "code",
      "source": [
        "square_lambda = lambda x: x**2\n",
        "print(square_lambda(5))"
      ],
      "metadata": {
        "colab": {
          "base_uri": "https://localhost:8080/"
        },
        "id": "8ViCs_knly2c",
        "outputId": "aa018d37-ce81-4717-bf92-babb8af9baf8"
      },
      "execution_count": 12,
      "outputs": [
        {
          "output_type": "stream",
          "name": "stdout",
          "text": [
            "25\n"
          ]
        }
      ]
    },
    {
      "cell_type": "markdown",
      "source": [
        "Question 9:\n",
        "Explain the purpose and usage of the map() function in python?\n",
        "- () is used to apply a function to every item in an iterable,returning a map object."
      ],
      "metadata": {
        "id": "L3bBTrZ8m7yA"
      }
    },
    {
      "cell_type": "code",
      "source": [
        "numbers = [1,2,3,4]\n",
        "squared = map(lambda x: x**2,numbers)\n",
        "print(list(squared))"
      ],
      "metadata": {
        "colab": {
          "base_uri": "https://localhost:8080/"
        },
        "id": "UxLrVmUDm6me",
        "outputId": "4b75f29a-35ec-4b58-8854-2178f9ca7a96"
      },
      "execution_count": 13,
      "outputs": [
        {
          "output_type": "stream",
          "name": "stdout",
          "text": [
            "[1, 4, 9, 16]\n"
          ]
        }
      ]
    },
    {
      "cell_type": "markdown",
      "source": [
        "Question 10:\n",
        "What is the difference between map(),reduce(),and filter() functions in python?\n",
        "- map() applies a function to all items in an input list.\n",
        "  reduce() applies a function cumulatively to item of an iterable,reducing it to a single value (requires import from functools).\n",
        "  filter() filters items out of an iterable based on a condition."
      ],
      "metadata": {
        "id": "QnWGo4yPnooj"
      }
    },
    {
      "cell_type": "code",
      "source": [
        "# example\n",
        "from functools import reduce\n",
        "print(list(map(lambda x: x**2,numbers)))\n",
        "print(reduce(lambda x,y: x+y,numbers))\n",
        "print(list(filter(lambda x: x%2==0,numbers)))\n"
      ],
      "metadata": {
        "colab": {
          "base_uri": "https://localhost:8080/"
        },
        "id": "ZEm0Vb7PnmRN",
        "outputId": "a9e7cfe1-0b19-4431-afa2-8ba44d99752f"
      },
      "execution_count": 16,
      "outputs": [
        {
          "output_type": "stream",
          "name": "stdout",
          "text": [
            "[1, 4, 9, 16]\n",
            "10\n",
            "[2, 4]\n"
          ]
        }
      ]
    },
    {
      "cell_type": "markdown",
      "source": [
        "Question 11:\n",
        "Using pen and paper,write the internal mechanism for the sum operation using the reduce function on this given list:[47,11,42,13]\n",
        "\n",
        "- from IPython.display import image,display\n",
        "  display(image('/content/ques11.png', width=500))"
      ],
      "metadata": {
        "id": "08yKk2oCpGA3"
      }
    },
    {
      "cell_type": "code",
      "source": [
        "# example\n",
        "from functools import reduce\n",
        "numbers = [47,11,42,13]\n",
        "result = reduce(lambda x,y: x+y,numbers)\n",
        "print(result)"
      ],
      "metadata": {
        "colab": {
          "base_uri": "https://localhost:8080/"
        },
        "id": "7OFInj0Vo2E4",
        "outputId": "49c0b6e1-bb35-445f-8a9b-ecef36762aea"
      },
      "execution_count": 17,
      "outputs": [
        {
          "output_type": "stream",
          "name": "stdout",
          "text": [
            "113\n"
          ]
        }
      ]
    },
    {
      "cell_type": "markdown",
      "source": [
        "PRACTICAL QUESTION\n",
        "\n",
        "Question 1:\n",
        "Wrirte a python function that takes a list of numbers as input and returns the sum of all even numbers in the list?"
      ],
      "metadata": {
        "id": "NCKNP0BSrbCp"
      }
    },
    {
      "cell_type": "code",
      "source": [
        "def sum_of_even(numbers):\n",
        "  return sum(num for num in numbers if num% 2==0)\n",
        "  print(sum_of_even([1,2,3,4,5,6]))"
      ],
      "metadata": {
        "id": "PRSUxsaDrBrc"
      },
      "execution_count": null,
      "outputs": []
    },
    {
      "cell_type": "markdown",
      "source": [
        "Question 2:\n",
        "Create a python function that accepts a string and return the reverse of that string?"
      ],
      "metadata": {
        "id": "HVG0gndfswSr"
      }
    },
    {
      "cell_type": "code",
      "source": [
        "def reverse_string(s: str) -> str:\n",
        "  return s[::-1]\n",
        "print(reverse_string(\"hello\"))"
      ],
      "metadata": {
        "id": "Y29w_wiJs9dx"
      },
      "execution_count": null,
      "outputs": []
    },
    {
      "cell_type": "markdown",
      "source": [
        "Question 3:\n",
        "implement the python function that takes a list of integers and return a new list conatianing the squares of each number.  "
      ],
      "metadata": {
        "id": "qGc3TH07s-Aq"
      }
    },
    {
      "cell_type": "code",
      "source": [
        "def square_numbers(numbers):\n",
        "  return [num**2 for num in numbers]\n",
        "print(square_numbers([1,2,3,4,5]))"
      ],
      "metadata": {
        "id": "vOL5ka4AuWZB"
      },
      "execution_count": null,
      "outputs": []
    },
    {
      "cell_type": "markdown",
      "source": [
        "question 4:\n",
        "Wrte a python function that checks if a given number is prime or not from 1 to 200?\n"
      ],
      "metadata": {
        "id": "sg-kCo6XuW0H"
      }
    },
    {
      "cell_type": "code",
      "source": [
        "def is_prime(n):\n",
        "  if n < 2:\n",
        "    return False\n",
        "  for i in range(2,int(n**0.5)+1):\n",
        "    if n % i == 0:\n",
        "      return False\n",
        "  return True"
      ],
      "metadata": {
        "id": "WYZ19l5xuiOW"
      },
      "execution_count": null,
      "outputs": []
    },
    {
      "cell_type": "markdown",
      "source": [
        "Question 5:\n",
        "create an iterator class in python that generates the fibonacci sequence up to a specified number of terms?"
      ],
      "metadata": {
        "id": "7N9SJ1STuijg"
      }
    },
    {
      "cell_type": "code",
      "source": [
        "class fibonacci_iterator:\n",
        "  def __init__(self,n):\n",
        "    self.n = n\n",
        "    self.a = 0\n",
        "    self.b = 1\n",
        "    self.count = 0\n",
        "    def __iter__(self):\n",
        "    return self\n",
        "    def __next__(self):\n",
        "      if self.count < self.n:\n",
        "        result = self.a\n",
        "        self.a,self.b = self.b,self.a+self.b\n",
        "        self.count += 1\n",
        "        return result"
      ],
      "metadata": {
        "id": "FcI6maHMu2nq"
      },
      "execution_count": null,
      "outputs": []
    },
    {
      "cell_type": "markdown",
      "source": [
        "Question 6:\n",
        "Write a generator function in python that yields the powers of 2 up to a given exponent?"
      ],
      "metadata": {
        "id": "nneTApChu14Z"
      }
    },
    {
      "cell_type": "code",
      "source": [
        "def power_of_two(n):\n",
        "  for i in range(n+1):\n",
        "    yield 2**i"
      ],
      "metadata": {
        "id": "h-4PTA2CvJ0F"
      },
      "execution_count": null,
      "outputs": []
    },
    {
      "cell_type": "markdown",
      "source": [
        "Question 7:\n",
        "Implement a generator function that reads a file line by line and yields each line as a string"
      ],
      "metadata": {
        "id": "nY1dmN0GvKLT"
      }
    },
    {
      "cell_type": "code",
      "source": [
        "def read_file_lines(filename):\n",
        "  with open(filename,'r') as file:\n",
        "    for line in file:\n",
        "      yield line.strip()"
      ],
      "metadata": {
        "id": "w0FypU1PvYtM"
      },
      "execution_count": null,
      "outputs": []
    },
    {
      "cell_type": "markdown",
      "source": [
        "Question 8:\n",
        "Use a lambda function in python to sort a list of tuples based on the second element of each tuple"
      ],
      "metadata": {
        "id": "iwDmwe7bvZFE"
      }
    },
    {
      "cell_type": "code",
      "source": [
        "tuples_list = [(1,2),(3,1),(2,3),(4,2)]\n",
        "sorted_list = sorted(tuples_list,key=lambda x: x[1])\n",
        "print(sorted_list)"
      ],
      "metadata": {
        "id": "14qxH2g-vrJP"
      },
      "execution_count": null,
      "outputs": []
    },
    {
      "cell_type": "markdown",
      "source": [
        "Question 9:\n",
        "Write a python program that uses MAP() to convert a list of temperatures from celsius to fahrenheit?"
      ],
      "metadata": {
        "id": "AeJJhq9Uvrwu"
      }
    },
    {
      "cell_type": "code",
      "source": [
        "def celsius_to_fahrenheit(celsius):\n",
        "  return (celsius * 9/5) + 32\n",
        "  celsius_temperatures = [0,10,20,30,40]\n",
        "  fahrenheit_temperatures = list(map(celsius_to_fahrenheit,celsius_temperatures))\n",
        "  print(fahrenheit_temperatures)"
      ],
      "metadata": {
        "id": "f_-pUmFKwXim"
      },
      "execution_count": null,
      "outputs": []
    },
    {
      "cell_type": "markdown",
      "source": [
        "Question 10:\n",
        "Create a python program that uses filter() to remove all the vowels from a given string?"
      ],
      "metadata": {
        "id": "4TQBUyrEwX8c"
      }
    },
    {
      "cell_type": "code",
      "source": [
        "def remove_vowels(string):\n",
        "  vowels = 'aeiouAEIOU'\n",
        "  return ''.join(filter(lambda x: x not in vowels,string))\n",
        "  input_string = \"hello world\"\n",
        "  result = remove_vowels(input_string)\n",
        "  print(result)"
      ],
      "metadata": {
        "id": "tig88KjBzCyB"
      },
      "execution_count": null,
      "outputs": []
    },
    {
      "cell_type": "code",
      "source": [],
      "metadata": {
        "id": "lojwqLMjzOUX"
      },
      "execution_count": null,
      "outputs": []
    }
  ]
}